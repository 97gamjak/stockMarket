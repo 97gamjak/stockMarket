{
 "cells": [
  {
   "cell_type": "code",
   "execution_count": 2,
   "metadata": {},
   "outputs": [
    {
     "name": "stdout",
     "output_type": "stream",
     "text": [
      "Initial price: 57625.0\n",
      "Maximum price: 57625.0\n",
      "Sell price: 46100.0\n"
     ]
    }
   ],
   "source": [
    "import pandas as pd\n",
    "\n",
    "from tvDatafeed import TvDatafeed\n",
    "\n",
    "tv = TvDatafeed()\n",
    "data = tv.get_hist(\n",
    "    \"BTCEUR\",\n",
    "    exchange=\"\",\n",
    ")\n",
    "\n",
    "date = pd.Timestamp(\"2024-02-28 01:00:00\")\n",
    "initial_price = data.loc[date].close\n",
    "\n",
    "dates = data.index\n",
    "\n",
    "bool_array = dates >= date\n",
    "bool_array[-1] = False\n",
    "\n",
    "maximum_price = data[bool_array].close.values.max()\n",
    "sell_price = maximum_price * 0.8\n",
    "\n",
    "print(f\"Initial price: {initial_price}\")\n",
    "print(f\"Maximum price: {maximum_price}\")\n",
    "print(f\"Sell price: {sell_price}\")"
   ]
  }
 ],
 "metadata": {
  "kernelspec": {
   "display_name": ".venv",
   "language": "python",
   "name": "python3"
  },
  "language_info": {
   "codemirror_mode": {
    "name": "ipython",
    "version": 3
   },
   "file_extension": ".py",
   "mimetype": "text/x-python",
   "name": "python",
   "nbconvert_exporter": "python",
   "pygments_lexer": "ipython3",
   "version": "3.11.6"
  }
 },
 "nbformat": 4,
 "nbformat_minor": 2
}
