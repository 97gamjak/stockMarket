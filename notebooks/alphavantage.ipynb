{
 "cells": [
  {
   "cell_type": "code",
   "execution_count": 1,
   "metadata": {},
   "outputs": [],
   "source": [
    "%reload_ext autoreload\n",
    "%autoreload 2\n",
    "\n",
    "import os\n",
    "import sys\n",
    "module_path = os.path.abspath(os.path.join('..'))\n",
    "if module_path not in sys.path:\n",
    "    sys.path.append(module_path)"
   ]
  },
  {
   "cell_type": "code",
   "execution_count": 2,
   "metadata": {},
   "outputs": [],
   "source": [
    "from stockMarket.core import get_tickers_from_index\n",
    "from stockMarket.api import populate_contracts\n",
    "\n",
    "tickers = get_tickers_from_index('sp500')\n",
    "contracts = populate_contracts(tickers)"
   ]
  },
  {
   "cell_type": "code",
   "execution_count": 4,
   "metadata": {},
   "outputs": [
    {
     "name": "stderr",
     "output_type": "stream",
     "text": [
      "  0%|          | 0/503 [00:00<?, ?it/s]\n"
     ]
    },
    {
     "name": "stdout",
     "output_type": "stream",
     "text": [
      "Error for KDP: Thank you for using Alpha Vantage! Our standard API rate limit is 25 requests per day. Please subscribe to any of the premium plans at https://www.alphavantage.co/premium/ to instantly remove all daily rate limits.\n",
      "2.5% files downloaded\n"
     ]
    },
    {
     "name": "stderr",
     "output_type": "stream",
     "text": [
      "  0%|          | 0/503 [00:00<?, ?it/s]"
     ]
    },
    {
     "name": "stdout",
     "output_type": "stream",
     "text": [
      "Error for KDP: Thank you for using Alpha Vantage! Our standard API rate limit is 25 requests per day. Please subscribe to any of the premium plans at https://www.alphavantage.co/premium/ to instantly remove all daily rate limits.\n",
      "2.5% files downloaded\n"
     ]
    },
    {
     "name": "stderr",
     "output_type": "stream",
     "text": [
      "\n"
     ]
    }
   ],
   "source": [
    "from stockMarket.alphavantage.fundamentals import Fundamentals\n",
    "\n",
    "api_keys = [\"YBW1PZLV0GUC6VE9\", \"IO77VFB86PDVLBNH\"]\n",
    "for api_key in api_keys:\n",
    "    fd = Fundamentals(api_key=api_key, tickers=tickers)\n",
    "    fd.get_fundamentals_annual()"
   ]
  },
  {
   "cell_type": "code",
   "execution_count": 54,
   "metadata": {},
   "outputs": [
    {
     "name": "stdout",
     "output_type": "stream",
     "text": [
      "netIncome for WFC at 2022-12-31, report number 1, 3.8% error\n",
      "<class 'str'>\n",
      "totalRevenue for WFC at 2021-12-31, report number 2, -63.4% error\n",
      "<class 'str'>\n",
      "totalRevenue for WFC at 2020-12-31, report number 3, -120.9% error\n",
      "<class 'str'>\n",
      "totalRevenue for WFC at 2019-12-31, report number 4, -83.5% error\n",
      "<class 'str'>\n",
      "totalRevenue for WFC at 2018-12-31, report number 5, -74.2% error\n",
      "<class 'str'>\n"
     ]
    },
    {
     "ename": "TypeError",
     "evalue": "can't multiply sequence by non-int of type 'float'",
     "output_type": "error",
     "traceback": [
      "\u001b[0;31m---------------------------------------------------------------------------\u001b[0m",
      "\u001b[0;31mTypeError\u001b[0m                                 Traceback (most recent call last)",
      "Cell \u001b[0;32mIn[54], line 20\u001b[0m\n\u001b[1;32m     18\u001b[0m \u001b[38;5;28;01mfor\u001b[39;00m contract \u001b[38;5;129;01min\u001b[39;00m contracts:\n\u001b[1;32m     19\u001b[0m     dc \u001b[38;5;241m=\u001b[39m DataChecker(contract)\n\u001b[0;32m---> 20\u001b[0m     \u001b[43mdc\u001b[49m\u001b[38;5;241;43m.\u001b[39;49m\u001b[43mcheck_data\u001b[49m\u001b[43m(\u001b[49m\u001b[43m)\u001b[49m\n",
      "File \u001b[0;32m~/Trading/stockMarket/stockMarket/alphavantage/dataChecker.py:34\u001b[0m, in \u001b[0;36mDataChecker.check_data\u001b[0;34m(self)\u001b[0m\n\u001b[1;32m     32\u001b[0m av_data \u001b[38;5;241m=\u001b[39m \u001b[38;5;28mself\u001b[39m\u001b[38;5;241m.\u001b[39mincome\u001b[38;5;241m.\u001b[39mloc[date]\n\u001b[1;32m     33\u001b[0m \u001b[38;5;28;01mtry\u001b[39;00m:\n\u001b[0;32m---> 34\u001b[0m     \u001b[38;5;28;43mself\u001b[39;49m\u001b[38;5;241;43m.\u001b[39;49m\u001b[43mcheck_data_income\u001b[49m\u001b[43m(\u001b[49m\u001b[43mav_data\u001b[49m\u001b[43m,\u001b[49m\u001b[43m \u001b[49m\u001b[43mibkr_index\u001b[49m\u001b[43m,\u001b[49m\u001b[43m \u001b[49m\u001b[43mdate\u001b[49m\u001b[43m)\u001b[49m\n\u001b[1;32m     35\u001b[0m \u001b[38;5;28;01mexcept\u001b[39;00m \u001b[38;5;167;01mAssertionError\u001b[39;00m \u001b[38;5;28;01mas\u001b[39;00m e:\n\u001b[1;32m     36\u001b[0m     \u001b[38;5;28mprint\u001b[39m(e)\n",
      "File \u001b[0;32m~/Trading/stockMarket/stockMarket/alphavantage/dataChecker.py:63\u001b[0m, in \u001b[0;36mDataChecker.check_data_income\u001b[0;34m(self, av_data, ibkr_index, date)\u001b[0m\n\u001b[1;32m     60\u001b[0m av_selling_general_and_admin \u001b[38;5;241m=\u001b[39m av_data[\u001b[38;5;124m'\u001b[39m\u001b[38;5;124msellingGeneralAndAdministrative\u001b[39m\u001b[38;5;124m'\u001b[39m] \u001b[38;5;241m*\u001b[39m \\\n\u001b[1;32m     61\u001b[0m     \u001b[38;5;241m1e-6\u001b[39m \u001b[38;5;28;01mif\u001b[39;00m av_data[\u001b[38;5;124m'\u001b[39m\u001b[38;5;124msellingGeneralAndAdministrative\u001b[39m\u001b[38;5;124m'\u001b[39m] \u001b[38;5;241m!=\u001b[39m \u001b[38;5;124m\"\u001b[39m\u001b[38;5;124mNone\u001b[39m\u001b[38;5;124m\"\u001b[39m \u001b[38;5;28;01melse\u001b[39;00m \u001b[38;5;241m0\u001b[39m\n\u001b[1;32m     62\u001b[0m \u001b[38;5;28mprint\u001b[39m(\u001b[38;5;28mtype\u001b[39m(av_data[\u001b[38;5;124m'\u001b[39m\u001b[38;5;124mresearchAndDevelopment\u001b[39m\u001b[38;5;124m'\u001b[39m]))\n\u001b[0;32m---> 63\u001b[0m av_research_and_development \u001b[38;5;241m=\u001b[39m \u001b[43mav_data\u001b[49m\u001b[43m[\u001b[49m\u001b[38;5;124;43m'\u001b[39;49m\u001b[38;5;124;43mresearchAndDevelopment\u001b[39;49m\u001b[38;5;124;43m'\u001b[39;49m\u001b[43m]\u001b[49m\u001b[43m \u001b[49m\u001b[38;5;241;43m*\u001b[39;49m\u001b[43m \u001b[49m\u001b[43m\\\u001b[49m\n\u001b[1;32m     64\u001b[0m \u001b[43m    \u001b[49m\u001b[38;5;241;43m1e-6\u001b[39;49m \u001b[38;5;28;01mif\u001b[39;00m av_data[\u001b[38;5;124m'\u001b[39m\u001b[38;5;124mresearchAndDevelopment\u001b[39m\u001b[38;5;124m'\u001b[39m] \u001b[38;5;241m!=\u001b[39m \u001b[38;5;124m\"\u001b[39m\u001b[38;5;124mNone\u001b[39m\u001b[38;5;124m\"\u001b[39m \u001b[38;5;28;01melse\u001b[39;00m \u001b[38;5;241m0\u001b[39m\n\u001b[1;32m     65\u001b[0m av_revenue \u001b[38;5;241m=\u001b[39m av_cost_of_goods_and_services_sold \u001b[38;5;241m+\u001b[39m \\\n\u001b[1;32m     66\u001b[0m     av_operating_income \u001b[38;5;241m+\u001b[39m av_selling_general_and_admin \u001b[38;5;241m+\u001b[39m av_research_and_development\n\u001b[1;32m     67\u001b[0m ibkr_revenue \u001b[38;5;241m=\u001b[39m \u001b[38;5;28mself\u001b[39m\u001b[38;5;241m.\u001b[39mcontract\u001b[38;5;241m.\u001b[39mrevenue[ibkr_index]\n",
      "\u001b[0;31mTypeError\u001b[0m: can't multiply sequence by non-int of type 'float'"
     ]
    }
   ],
   "source": [
    "import glob\n",
    "import numpy as np\n",
    "\n",
    "from stockMarket.alphavantage.dataChecker import DataChecker\n",
    "\n",
    "all_tickers = glob.glob(\"../data/alphavantage/*.csv\")\n",
    "all_tickers = np.array([ticker.split(\"/\")[-1].split(\"_\")[0] for ticker in all_tickers])\n",
    "all_tickers = np.array([ticker.split(\"/\")[-1] for ticker in all_tickers])\n",
    "tickers = []\n",
    "for ticker in all_tickers:\n",
    "    if all_tickers[all_tickers == ticker].shape[0] == 3:\n",
    "        tickers.append(ticker)\n",
    "\n",
    "tickers = list(set(tickers))\n",
    "contracts = populate_contracts(tickers)\n",
    "\n",
    "\n",
    "for contract in contracts:\n",
    "    dc = DataChecker(contract)\n",
    "    dc.check_data()"
   ]
  }
 ],
 "metadata": {
  "kernelspec": {
   "display_name": ".venv",
   "language": "python",
   "name": "python3"
  },
  "language_info": {
   "codemirror_mode": {
    "name": "ipython",
    "version": 3
   },
   "file_extension": ".py",
   "mimetype": "text/x-python",
   "name": "python",
   "nbconvert_exporter": "python",
   "pygments_lexer": "ipython3",
   "version": "3.11.6"
  }
 },
 "nbformat": 4,
 "nbformat_minor": 2
}
