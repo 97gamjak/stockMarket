{
 "cells": [
  {
   "cell_type": "code",
   "execution_count": 77,
   "metadata": {},
   "outputs": [],
   "source": [
    "%reload_ext autoreload\n",
    "%autoreload 2\n",
    "\n",
    "import os\n",
    "import sys\n",
    "module_path = os.path.abspath(os.path.join('..'))\n",
    "if module_path not in sys.path:\n",
    "    sys.path.append(module_path)"
   ]
  },
  {
   "cell_type": "markdown",
   "metadata": {},
   "source": [
    "### Setup Tickers"
   ]
  },
  {
   "cell_type": "code",
   "execution_count": 78,
   "metadata": {},
   "outputs": [],
   "source": [
    "from stockMarket.stockData import StockData\n",
    "\n",
    "stock_data = StockData(\"S&P500\")"
   ]
  },
  {
   "cell_type": "markdown",
   "metadata": {},
   "source": [
    "### Download XML Files of Tickers"
   ]
  },
  {
   "cell_type": "code",
   "execution_count": 2,
   "metadata": {},
   "outputs": [],
   "source": [
    "from stockMarket.ib import StoreXMLData\n",
    "\n",
    "storeXMLData = StoreXMLData(stock_data.companies)\n",
    "storeXMLData.save_xml_data()"
   ]
  },
  {
   "cell_type": "code",
   "execution_count": 208,
   "metadata": {},
   "outputs": [
    {
     "name": "stdout",
     "output_type": "stream",
     "text": [
      "99            {'Dividend Date': datetime.date(2023, 11, 16), 'Ex-Dividend Date': datetime.date(2023, 11, 10), 'Earnings Date': [datetime.date(2024, 1, 31), datetime.date(2024, 2, 5)], 'Earnings High': 2.16, 'Earnings Low': 2.02, 'Earnings Average': 2.1, 'Revenue High': 124043000000, 'Revenue Low': 116577000000, 'Revenue Average': 118031000000}\n",
      "[datetime.date(2024, 10, 31) datetime.date(2024, 8, 1)\n",
      " datetime.date(2024, 5, 2) datetime.date(2024, 2, 1)\n",
      " datetime.date(2024, 2, 1) datetime.date(2024, 1, 31)]\n",
      "99            {'Dividend Date': datetime.date(2024, 3, 14), 'Ex-Dividend Date': datetime.date(2024, 2, 14), 'Earnings Date': [datetime.date(2024, 1, 30)], 'Earnings High': 3.32, 'Earnings Low': 2.72, 'Earnings Average': 2.78, 'Revenue High': 61814000000, 'Revenue Low': 60844000000, 'Revenue Average': 61101100000}\n",
      "[datetime.date(2024, 10, 22) datetime.date(2024, 7, 23)\n",
      " datetime.date(2024, 4, 23) datetime.date(2024, 1, 30)\n",
      " datetime.date(2024, 1, 30)]\n",
      "99            {'Dividend Date': datetime.date(2023, 12, 15), 'Ex-Dividend Date': datetime.date(2023, 11, 29), 'Earnings Date': [datetime.date(2024, 1, 24)], 'Earnings High': 0.47, 'Earnings Low': 0.41, 'Earnings Average': 0.44, 'Revenue High': 3731000000, 'Revenue Low': 3556000000, 'Revenue Average': 3628790000}\n",
      "[datetime.date(2024, 10, 17) datetime.date(2024, 7, 18)\n",
      " datetime.date(2024, 4, 18)]\n"
     ]
    },
    {
     "data": {
      "text/html": [
       "<div>\n",
       "<style scoped>\n",
       "    .dataframe tbody tr th:only-of-type {\n",
       "        vertical-align: middle;\n",
       "    }\n",
       "\n",
       "    .dataframe tbody tr th {\n",
       "        vertical-align: top;\n",
       "    }\n",
       "\n",
       "    .dataframe thead th {\n",
       "        text-align: right;\n",
       "    }\n",
       "</style>\n",
       "<table border=\"1\" class=\"dataframe\">\n",
       "  <thead>\n",
       "    <tr style=\"text-align: right;\">\n",
       "      <th></th>\n",
       "      <th>Earnings Dates</th>\n",
       "      <th>test</th>\n",
       "    </tr>\n",
       "  </thead>\n",
       "  <tbody>\n",
       "    <tr>\n",
       "      <th>AAPL</th>\n",
       "      <td>[2024-10-31, 2024-08-01, 2024-05-02, 2024-02-0...</td>\n",
       "      <td>NaN</td>\n",
       "    </tr>\n",
       "    <tr>\n",
       "      <th>MSFT</th>\n",
       "      <td>[2024-10-22, 2024-07-23, 2024-04-23, 2024-01-3...</td>\n",
       "      <td>NaN</td>\n",
       "    </tr>\n",
       "    <tr>\n",
       "      <th>CSX</th>\n",
       "      <td>[2024-10-17, 2024-07-18, 2024-04-18]</td>\n",
       "      <td>NaN</td>\n",
       "    </tr>\n",
       "  </tbody>\n",
       "</table>\n",
       "</div>"
      ],
      "text/plain": [
       "                                         Earnings Dates test\n",
       "AAPL  [2024-10-31, 2024-08-01, 2024-05-02, 2024-02-0...  NaN\n",
       "MSFT  [2024-10-22, 2024-07-23, 2024-04-23, 2024-01-3...  NaN\n",
       "CSX                [2024-10-17, 2024-07-18, 2024-04-18]  NaN"
      ]
     },
     "execution_count": 208,
     "metadata": {},
     "output_type": "execute_result"
    }
   ],
   "source": [
    "import yfinance as yf\n",
    "import pandas as pd\n",
    "import datetime as dt\n",
    "import numpy as np\n",
    "\n",
    "def to_date(x):\n",
    "    return x.date()\n",
    "vectorize_to_date = np.vectorize(to_date)\n",
    "\n",
    "\n",
    "df = pd.DataFrame(columns=[\"Earnings Dates\", \"test\"])\n",
    "for ticker in [\"AAPL\", \"MSFT\", \"CSX\"]:\n",
    "# for ticker in [\"MMM\"]:\n",
    "# for i, ticker in enumerate(stock_data.companies[-100:]):\n",
    "    stock = yf.Ticker(ticker)\n",
    "    print(i, \"          \", stock.calendar)\n",
    "    try:\n",
    "        earnings_dates = stock.get_earnings_dates()\n",
    "        earnings_dates = vectorize_to_date(earnings_dates[\"EPS Estimate\"].index)\n",
    "        earnings_dates = earnings_dates[earnings_dates > dt.datetime.today().date()]\n",
    "    except Exception as e:\n",
    "        earnings_dates = np.array([])\n",
    "        \n",
    "    print(earnings_dates)\n",
    "    df = pd.concat([df, pd.DataFrame({\"Earnings Dates\": [earnings_dates]}, index=[ticker])])\n",
    "    \n",
    "df"
   ]
  },
  {
   "cell_type": "code",
   "execution_count": 234,
   "metadata": {},
   "outputs": [
    {
     "name": "stderr",
     "output_type": "stream",
     "text": [
      "Earnings Dates:   0%|          | 0/503 [00:00<?, ?it/s]2024-01-24 15:52:25,542 yfinance     ERROR    BRK.B: No earnings dates found, symbol may be delisted\n",
      "Earnings Dates:  13%|█▎        | 63/503 [00:01<00:12, 34.81it/s]2024-01-24 15:52:26,873 yfinance     ERROR    BF.B: No earnings dates found, symbol may be delisted\n",
      "Earnings Dates:  16%|█▋        | 82/503 [00:04<00:25, 16.66it/s]2024-01-24 15:52:29,102 yfinance     ERROR    FOX: No earnings dates found, symbol may be delisted\n",
      "Earnings Dates:  67%|██████▋   | 336/503 [00:36<00:09, 17.55it/s]2024-01-24 15:53:02,639 yfinance     ERROR    NWS: No earnings dates found, symbol may be delisted\n",
      "Earnings Dates: 100%|██████████| 503/503 [01:29<00:00,  5.65it/s]\n"
     ]
    }
   ],
   "source": [
    "from stockMarket.yfinance.calendar import Calendar\n",
    "\n",
    "calendar = Calendar(stock_data.companies)\n",
    "calendar.get_earnings_dates()"
   ]
  },
  {
   "cell_type": "code",
   "execution_count": 212,
   "metadata": {},
   "outputs": [
    {
     "name": "stdout",
     "output_type": "stream",
     "text": [
      "<class 'numpy.ndarray'>\n",
      "<class 'numpy.ndarray'>\n",
      "                                         Earnings Dates test\n",
      "AAPL  [2024-10-31, 2024-08-01, 2024-05-02, 2024-02-0...  NaN\n",
      "MSFT  [2024-10-22, 2024-07-23, 2024-04-23, 2024-01-3...  NaN\n",
      "CSX                [2024-10-17, 2024-07-18, 2024-04-18]  NaN\n",
      "                                         Earnings Dates  test\n",
      "AAPL  [2024-10-31, 2024-08-01, 2024-05-02, 2024-02-0...   NaN\n",
      "MSFT  [2024-10-22, 2024-07-23, 2024-04-23, 2024-01-3...   NaN\n",
      "CSX                [2024-10-17, 2024-07-18, 2024-04-18]   NaN\n"
     ]
    }
   ],
   "source": [
    "import datetime\n",
    "from numpy import fromstring\n",
    "\n",
    "def converter(x):\n",
    "    x = x[1:-1]\n",
    "    x = x.replace(\", \", \"-\")\n",
    "    x = x.replace(\"(\", \"\")\n",
    "    x = x.replace(\")\", \"\")\n",
    "    list_x = x.split(\"datetime.date\")\n",
    "    list_x = [x.strip() for x in list_x if x.strip() != \"\"]\n",
    "    list_x = [datetime.datetime.strptime(x, \"%Y-%m-%d\").date() for x in list_x]\n",
    "    return np.array(list_x)\n",
    "    \n",
    "\n",
    "df.to_csv(\"test.csv\")\n",
    "df2 = pd.read_csv(\"test.csv\", index_col=0, converters={\"Earnings Dates\": converter})\n",
    "test = df.loc[\"AAPL\", \"Earnings Dates\"]\n",
    "test2 = df2.loc[\"AAPL\", \"Earnings Dates\"]\n",
    "print(type(test))\n",
    "print(type(test2))\n",
    "\n",
    "print(df)\n",
    "print(df2)"
   ]
  }
 ],
 "metadata": {
  "kernelspec": {
   "display_name": "Python 3",
   "language": "python",
   "name": "python3"
  },
  "language_info": {
   "codemirror_mode": {
    "name": "ipython",
    "version": 3
   },
   "file_extension": ".py",
   "mimetype": "text/x-python",
   "name": "python",
   "nbconvert_exporter": "python",
   "pygments_lexer": "ipython3",
   "version": "3.11.6"
  }
 },
 "nbformat": 4,
 "nbformat_minor": 2
}
