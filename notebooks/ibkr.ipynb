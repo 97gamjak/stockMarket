{
 "cells": [
  {
   "cell_type": "code",
   "execution_count": 1,
   "metadata": {},
   "outputs": [],
   "source": [
    "%reload_ext autoreload\n",
    "%autoreload 2\n",
    "\n",
    "import os\n",
    "import sys\n",
    "module_path = os.path.abspath(os.path.join('..'))\n",
    "if module_path not in sys.path:\n",
    "    sys.path.append(module_path)"
   ]
  },
  {
   "cell_type": "markdown",
   "metadata": {},
   "source": [
    "### Setup Tickers"
   ]
  },
  {
   "cell_type": "code",
   "execution_count": 2,
   "metadata": {},
   "outputs": [],
   "source": [
    "from stockMarket.core import get_tickers_from_index, get_currencies_from_index\n",
    "from stockMarket.core import Contract\n",
    "\n",
    "ticker_currency_tuples = get_currencies_from_index(\"euro_stoxx_600\")\n",
    "contracts = []\n",
    "for ticker, currency in ticker_currency_tuples:\n",
    "    contracts.append(Contract(ticker=ticker, currency=currency))\n"
   ]
  },
  {
   "cell_type": "markdown",
   "metadata": {},
   "source": [
    "### Download XML Files of Tickers"
   ]
  },
  {
   "cell_type": "code",
   "execution_count": 23,
   "metadata": {},
   "outputs": [
    {
     "name": "stderr",
     "output_type": "stream",
     "text": [
      "Downloading XML data:   0%|          | 0/1 [00:00<?, ?it/s]Error 200, reqId 3: The contract description specified for CBK is ambiguous; you must specify the currency., contract: Contract(secType='STK', symbol='CBK', exchange='SMART')\n",
      "Downloading XML data: 100%|██████████| 1/1 [00:00<00:00,  8.01it/s]\n",
      "Saving XML files:   0%|          | 0/1 [00:00<?, ?it/s]/home/jag/Trading/stockMarket/stockMarket/ib/finReports.py:160: UserWarning: Ticker CBK has no data\n",
      "  warnings.warn(f\"Ticker {ticker} has no data\")\n",
      "Saving XML files:   0%|          | 0/1 [00:00<?, ?it/s]\n"
     ]
    },
    {
     "ename": "UnboundLocalError",
     "evalue": "cannot access local variable 'tree' where it is not associated with a value",
     "output_type": "error",
     "traceback": [
      "\u001b[0;31m---------------------------------------------------------------------------\u001b[0m",
      "\u001b[0;31mUnboundLocalError\u001b[0m                         Traceback (most recent call last)",
      "Cell \u001b[0;32mIn[23], line 4\u001b[0m\n\u001b[1;32m      1\u001b[0m \u001b[38;5;28;01mfrom\u001b[39;00m \u001b[38;5;21;01mstockMarket\u001b[39;00m\u001b[38;5;21;01m.\u001b[39;00m\u001b[38;5;21;01mib\u001b[39;00m \u001b[38;5;28;01mimport\u001b[39;00m StoreXMLData\n\u001b[1;32m      3\u001b[0m storeXMLData \u001b[38;5;241m=\u001b[39m StoreXMLData([\u001b[38;5;124m\"\u001b[39m\u001b[38;5;124mCBK\u001b[39m\u001b[38;5;124m\"\u001b[39m])\n\u001b[0;32m----> 4\u001b[0m \u001b[43mstoreXMLData\u001b[49m\u001b[38;5;241;43m.\u001b[39;49m\u001b[43msave_xml_data\u001b[49m\u001b[43m(\u001b[49m\u001b[43m)\u001b[49m\n",
      "File \u001b[0;32m~/Trading/stockMarket/stockMarket/ib/finReports.py:119\u001b[0m, in \u001b[0;36mStoreXMLData.save_xml_data\u001b[0;34m(self)\u001b[0m\n\u001b[1;32m    117\u001b[0m \u001b[38;5;28;01mdef\u001b[39;00m \u001b[38;5;21msave_xml_data\u001b[39m(\u001b[38;5;28mself\u001b[39m):\n\u001b[1;32m    118\u001b[0m     \u001b[38;5;28mself\u001b[39m\u001b[38;5;241m.\u001b[39m_get_fin_statements()\n\u001b[0;32m--> 119\u001b[0m     \u001b[38;5;28;43mself\u001b[39;49m\u001b[38;5;241;43m.\u001b[39;49m\u001b[43m_save_xml_files\u001b[49m\u001b[43m(\u001b[49m\u001b[43m)\u001b[49m\n",
      "File \u001b[0;32m~/Trading/stockMarket/stockMarket/ib/finReports.py:167\u001b[0m, in \u001b[0;36mStoreXMLData._save_xml_files\u001b[0;34m(self)\u001b[0m\n\u001b[1;32m    164\u001b[0m target_backup_file \u001b[38;5;241m=\u001b[39m data_backup_path \u001b[38;5;241m+\u001b[39m \u001b[38;5;28mstr\u001b[39m(ticker) \u001b[38;5;241m+\u001b[39m file_ending\n\u001b[1;32m    166\u001b[0m \u001b[38;5;28;01mwith\u001b[39;00m \u001b[38;5;28mopen\u001b[39m(data_path \u001b[38;5;241m+\u001b[39m \u001b[38;5;28mstr\u001b[39m(ticker) \u001b[38;5;241m+\u001b[39m \u001b[38;5;124m\"\u001b[39m\u001b[38;5;124m_test\u001b[39m\u001b[38;5;124m\"\u001b[39m, \u001b[38;5;124m\"\u001b[39m\u001b[38;5;124mw\u001b[39m\u001b[38;5;124m\"\u001b[39m) \u001b[38;5;28;01mas\u001b[39;00m f:\n\u001b[0;32m--> 167\u001b[0m     f\u001b[38;5;241m.\u001b[39mwrite(ET\u001b[38;5;241m.\u001b[39mtostring(\u001b[43mtree\u001b[49m, encoding\u001b[38;5;241m=\u001b[39m\u001b[38;5;124m\"\u001b[39m\u001b[38;5;124municode\u001b[39m\u001b[38;5;124m\"\u001b[39m))\n\u001b[1;32m    169\u001b[0m file_exists \u001b[38;5;241m=\u001b[39m os\u001b[38;5;241m.\u001b[39mpath\u001b[38;5;241m.\u001b[39mexists(target_file)\n\u001b[1;32m    171\u001b[0m \u001b[38;5;28;01mif\u001b[39;00m file_exists:\n",
      "\u001b[0;31mUnboundLocalError\u001b[0m: cannot access local variable 'tree' where it is not associated with a value"
     ]
    }
   ],
   "source": [
    "from stockMarket.ib import StoreXMLData\n",
    "\n",
    "storeXMLData = StoreXMLData(contracts)\n",
    "storeXMLData.save_xml_data()"
   ]
  }
 ],
 "metadata": {
  "kernelspec": {
   "display_name": "Python 3",
   "language": "python",
   "name": "python3"
  },
  "language_info": {
   "codemirror_mode": {
    "name": "ipython",
    "version": 3
   },
   "file_extension": ".py",
   "mimetype": "text/x-python",
   "name": "python",
   "nbconvert_exporter": "python",
   "pygments_lexer": "ipython3",
   "version": "3.11.6"
  }
 },
 "nbformat": 4,
 "nbformat_minor": 2
}
