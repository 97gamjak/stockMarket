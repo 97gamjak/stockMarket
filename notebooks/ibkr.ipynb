{
 "cells": [
  {
   "cell_type": "code",
   "execution_count": 70,
   "metadata": {},
   "outputs": [],
   "source": [
    "%reload_ext autoreload\n",
    "%autoreload 2\n",
    "\n",
    "import os\n",
    "import sys\n",
    "module_path = os.path.abspath(os.path.join('..'))\n",
    "if module_path not in sys.path:\n",
    "    sys.path.append(module_path)"
   ]
  },
  {
   "cell_type": "markdown",
   "metadata": {},
   "source": [
    "### Setup Tickers"
   ]
  },
  {
   "cell_type": "code",
   "execution_count": 89,
   "metadata": {},
   "outputs": [
    {
     "name": "stdout",
     "output_type": "stream",
     "text": [
      "NFLX\n",
      "BIIB\n",
      "MCHP\n",
      "CCEP\n",
      "CPRT\n",
      "PCAR\n",
      "GFS\n",
      "MELI\n",
      "MSFT\n",
      "DXCM\n",
      "AAPL\n",
      "CHTR\n",
      "EA\n",
      "AZN\n",
      "DLTR\n",
      "KLAC\n",
      "IDXX\n",
      "TEAM\n",
      "PDD\n",
      "CSX\n",
      "HON\n",
      "ADI\n",
      "NVDA\n",
      "ZS\n",
      "VRTX\n",
      "AMGN\n",
      "SPLK\n",
      "ASML\n",
      "ABNB\n",
      "MU\n",
      "COST\n",
      "VRSK\n",
      "CDW\n",
      "MRVL\n",
      "CTAS\n",
      "MNST\n",
      "ADBE\n",
      "CMCSA\n",
      "LULU\n",
      "CSCO\n",
      "ROST\n",
      "FAST\n",
      "ORLY\n",
      "PEP\n",
      "CDNS\n",
      "TXN\n",
      "MDB\n",
      "AMZN\n",
      "TTWO\n",
      "EXC\n",
      "TSLA\n",
      "BKNG\n",
      "ANSS\n",
      "CSGP\n",
      "CTSH\n",
      "AEP\n",
      "LRCX\n",
      "QCOM\n",
      "PAYX\n",
      "AMD\n",
      "KDP\n",
      "WDAY\n",
      "CRWD\n",
      "REGN\n",
      "SNPS\n",
      "NXPI\n",
      "MRNA\n",
      "WBA\n",
      "ADSK\n",
      "ADP\n",
      "KHC\n",
      "PYPL\n",
      "ODFL\n",
      "MDLZ\n",
      "SBUX\n",
      "AMAT\n",
      "TMUS\n",
      "INTC\n",
      "SIRI\n",
      "ROP\n",
      "INTU\n",
      "BKR\n",
      "AVGO\n",
      "ILMN\n",
      "ON\n",
      "TTD\n",
      "WBD\n",
      "DASH\n",
      "MAR\n",
      "DDOG\n",
      "CEG\n",
      "GEHC\n",
      "FTNT\n",
      "XEL\n",
      "ISRG\n",
      "PANW\n",
      "FANG\n",
      "META\n",
      "GILD\n"
     ]
    }
   ],
   "source": [
    "from stockMarket.core import get_tickers_from_index, get_currencies_from_index\n",
    "from stockMarket.core import Contracts, Contract\n",
    "\n",
    "ticker_currency_tuples = get_currencies_from_index(\"nasdaq\")\n",
    "contracts = []\n",
    "for ticker, currency in ticker_currency_tuples:\n",
    "    contracts.append(Contract(ticker=ticker, currency=currency))\n",
    "contracts = Contracts(contracts)"
   ]
  },
  {
   "cell_type": "markdown",
   "metadata": {},
   "source": [
    "### Download XML Files of Tickers"
   ]
  },
  {
   "cell_type": "code",
   "execution_count": 92,
   "metadata": {},
   "outputs": [
    {
     "name": "stderr",
     "output_type": "stream",
     "text": [
      "Downloading XML data: 100%|██████████| 1/1 [00:01<00:00,  1.16s/it]\n",
      "Saving XML files: 100%|██████████| 1/1 [00:00<00:00, 176.71it/s]\n"
     ]
    }
   ],
   "source": [
    "from stockMarket.ib import StoreXMLData\n",
    "from stockMarket.core import Contract\n",
    "\n",
    "storeXMLData = StoreXMLData(\"ARCC\")\n",
    "storeXMLData.save_xml_data()"
   ]
  }
 ],
 "metadata": {
  "kernelspec": {
   "display_name": "Python 3",
   "language": "python",
   "name": "python3"
  },
  "language_info": {
   "codemirror_mode": {
    "name": "ipython",
    "version": 3
   },
   "file_extension": ".py",
   "mimetype": "text/x-python",
   "name": "python",
   "nbconvert_exporter": "python",
   "pygments_lexer": "ipython3",
   "version": "3.11.6"
  }
 },
 "nbformat": 4,
 "nbformat_minor": 2
}
