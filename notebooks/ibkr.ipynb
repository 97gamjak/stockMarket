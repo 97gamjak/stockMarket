{
 "cells": [
  {
   "cell_type": "code",
   "execution_count": 2,
   "metadata": {},
   "outputs": [],
   "source": [
    "import os\n",
    "import sys\n",
    "module_path = os.path.abspath(os.path.join('..'))\n",
    "if module_path not in sys.path:\n",
    "    sys.path.append(module_path)"
   ]
  },
  {
   "cell_type": "markdown",
   "metadata": {},
   "source": [
    "### Download XML Files of Tickers"
   ]
  },
  {
   "cell_type": "code",
   "execution_count": 3,
   "metadata": {},
   "outputs": [
    {
     "name": "stderr",
     "output_type": "stream",
     "text": [
      "Downloading XML data:   2%|▏         | 11/503 [00:06<04:42,  1.74it/s]Error 200, reqId 14: The contract description specified for ABNB is ambiguous., contract: Contract(secType='STK', symbol='ABNB', exchange='SMART', currency='USD')\n",
      "Downloading XML data:  12%|█▏        | 62/503 [00:47<06:42,  1.09it/s]Error 200, reqId 65: No security definition has been found for the request, contract: Contract(secType='STK', symbol='BRK.B', exchange='SMART', currency='USD')\n",
      "Downloading XML data:  16%|█▌        | 78/503 [01:04<08:03,  1.14s/it]Error 200, reqId 81: No security definition has been found for the request, contract: Contract(secType='STK', symbol='BF.B', exchange='SMART', currency='USD')\n",
      "Downloading XML data:  18%|█▊        | 91/503 [01:16<06:58,  1.02s/it]Error 200, reqId 94: The contract description specified for CAT is ambiguous., contract: Contract(secType='STK', symbol='CAT', exchange='SMART', currency='USD')\n",
      "Downloading XML data:  22%|██▏       | 112/503 [01:30<04:17,  1.52it/s]Error 200, reqId 115: The contract description specified for CSCO is ambiguous., contract: Contract(secType='STK', symbol='CSCO', exchange='SMART', currency='USD')\n",
      "Downloading XML data:  29%|██▉       | 147/503 [02:01<04:31,  1.31it/s]Error 200, reqId 150: The contract description specified for FANG is ambiguous., contract: Contract(secType='STK', symbol='FANG', exchange='SMART', currency='USD')\n",
      "Downloading XML data:  41%|████      | 206/503 [03:03<05:59,  1.21s/it]Error 430, reqId 209: The fundamentals data for the security specified is not available.failed to fetch, contract: Contract(secType='STK', symbol='FOX', exchange='SMART', currency='USD')\n",
      "Downloading XML data:  49%|████▊     | 244/503 [03:44<04:43,  1.09s/it]Error 200, reqId 247: The contract description specified for IBM is ambiguous., contract: Contract(secType='STK', symbol='IBM', exchange='SMART', currency='USD')\n",
      "Downloading XML data:  55%|█████▍    | 275/503 [04:10<02:44,  1.38it/s]Error 200, reqId 278: The contract description specified for KEYS is ambiguous., contract: Contract(secType='STK', symbol='KEYS', exchange='SMART', currency='USD')\n",
      "Downloading XML data:  62%|██████▏   | 312/503 [04:38<02:04,  1.54it/s]Error 200, reqId 315: The contract description specified for META is ambiguous., contract: Contract(secType='STK', symbol='META', exchange='SMART', currency='USD')\n",
      "Downloading XML data:  67%|██████▋   | 337/503 [05:02<02:26,  1.13it/s]Error 430, reqId 340: The fundamentals data for the security specified is not available.failed to fetch, contract: Contract(secType='STK', symbol='NWS', exchange='SMART', currency='USD')\n",
      "Downloading XML data:  97%|█████████▋| 486/503 [07:25<00:12,  1.40it/s]Error 200, reqId 489: The contract description specified for WELL is ambiguous., contract: Contract(secType='STK', symbol='WELL', exchange='SMART', currency='USD')\n",
      "Downloading XML data: 100%|██████████| 503/503 [07:39<00:00,  1.09it/s]\n",
      "Saving XML files:   0%|          | 0/502 [00:00<?, ?it/s]/home/jag/Trading/stockMarket/stockMarket/finReports.py:58: UserWarning: Ticker ABNB has no data\n",
      "  warnings.warn(f\"Ticker {ticker} has no data\")\n",
      "Saving XML files:  10%|█         | 52/502 [00:00<00:02, 168.94it/s]/home/jag/Trading/stockMarket/stockMarket/finReports.py:58: UserWarning: Ticker BRK.B has no data\n",
      "  warnings.warn(f\"Ticker {ticker} has no data\")\n",
      "Saving XML files:  14%|█▍        | 71/502 [00:00<00:02, 173.59it/s]/home/jag/Trading/stockMarket/stockMarket/finReports.py:58: UserWarning: Ticker BF.B has no data\n",
      "  warnings.warn(f\"Ticker {ticker} has no data\")\n",
      "Saving XML files:  18%|█▊        | 89/502 [00:00<00:02, 144.90it/s]/home/jag/Trading/stockMarket/stockMarket/finReports.py:58: UserWarning: Ticker CAT has no data\n",
      "  warnings.warn(f\"Ticker {ticker} has no data\")\n",
      "Saving XML files:  21%|██        | 105/502 [00:00<00:02, 142.36it/s]/home/jag/Trading/stockMarket/stockMarket/finReports.py:58: UserWarning: Ticker CSCO has no data\n",
      "  warnings.warn(f\"Ticker {ticker} has no data\")\n",
      "Saving XML files:  27%|██▋       | 138/502 [00:00<00:02, 150.92it/s]/home/jag/Trading/stockMarket/stockMarket/finReports.py:58: UserWarning: Ticker FANG has no data\n",
      "  warnings.warn(f\"Ticker {ticker} has no data\")\n",
      "Saving XML files:  38%|███▊      | 189/502 [00:01<00:02, 146.57it/s]/home/jag/Trading/stockMarket/stockMarket/finReports.py:58: UserWarning: Ticker FOX has no data\n",
      "  warnings.warn(f\"Ticker {ticker} has no data\")\n",
      "Saving XML files:  48%|████▊     | 241/502 [00:01<00:01, 138.31it/s]/home/jag/Trading/stockMarket/stockMarket/finReports.py:58: UserWarning: Ticker IBM has no data\n",
      "  warnings.warn(f\"Ticker {ticker} has no data\")\n",
      "Saving XML files:  54%|█████▍    | 272/502 [00:01<00:01, 145.17it/s]/home/jag/Trading/stockMarket/stockMarket/finReports.py:58: UserWarning: Ticker KEYS has no data\n",
      "  warnings.warn(f\"Ticker {ticker} has no data\")\n",
      "Saving XML files:  61%|██████    | 307/502 [00:02<00:01, 155.82it/s]/home/jag/Trading/stockMarket/stockMarket/finReports.py:58: UserWarning: Ticker META has no data\n",
      "  warnings.warn(f\"Ticker {ticker} has no data\")\n",
      "Saving XML files:  65%|██████▍   | 325/502 [00:02<00:01, 160.38it/s]/home/jag/Trading/stockMarket/stockMarket/finReports.py:58: UserWarning: Ticker NWS has no data\n",
      "  warnings.warn(f\"Ticker {ticker} has no data\")\n",
      "Saving XML files:  95%|█████████▍| 475/502 [00:03<00:00, 145.56it/s]/home/jag/Trading/stockMarket/stockMarket/finReports.py:58: UserWarning: Ticker WELL has no data\n",
      "  warnings.warn(f\"Ticker {ticker} has no data\")\n",
      "Saving XML files: 100%|██████████| 502/502 [00:03<00:00, 145.54it/s]\n"
     ]
    }
   ],
   "source": [
    "from stockMarket.finReports import StoreXMLData\n",
    "from stockMarket.stockData import StockData\n",
    "\n",
    "stock_data = StockData(\"S&P 500\")\n",
    "storeXMLData = StoreXMLData(stock_data.companies)\n",
    "storeXMLData.save_xml_data()\n",
    "# storeXMLData._save_xml_files()"
   ]
  },
  {
   "cell_type": "code",
   "execution_count": 4,
   "metadata": {},
   "outputs": [
    {
     "data": {
      "text/plain": [
       "[282836000000.0,\n",
       " 257637000000.0,\n",
       " 182527000000.0,\n",
       " 161857000000.0,\n",
       " 136819000000.0,\n",
       " 110855000000.0]"
      ]
     },
     "execution_count": 4,
     "metadata": {},
     "output_type": "execute_result"
    }
   ],
   "source": [
    "from xml.etree import ElementTree as ET\n",
    "\n",
    "tree = ET.parse('../data/fin_statements/GOOG_fin_statements.xml')\n",
    "root = tree.getroot()\n",
    "fin_statement = root.find(\"FinancialStatements\")\n",
    "coa_map = fin_statement.find(\"COAMap\")\n",
    "for child in coa_map:\n",
    "    if child.text == \"Revenue\":\n",
    "        coa_item = child.attrib[\"coaItem\"]\n",
    "        \n",
    "annual_data = fin_statement.find(\"AnnualPeriods\")\n",
    "data = annual_data.findall(f\".//*[@coaCode='{coa_item}']\")\n",
    "[float(i.text) * 10**6 for i in data]"
   ]
  },
  {
   "cell_type": "code",
   "execution_count": 59,
   "metadata": {},
   "outputs": [
    {
     "name": "stdout",
     "output_type": "stream",
     "text": [
      "211915.000000\n",
      "198270.000000\n",
      "168088.000000\n",
      "143015.000000\n",
      "125843.000000\n",
      "110360.000000\n",
      "56517.000000\n",
      "56189.000000\n",
      "52857.000000\n",
      "52747.000000\n",
      "50122.000000\n"
     ]
    }
   ],
   "source": [
    "import xml.dom.minidom\n",
    "# parse the XML file\n",
    "\n",
    "xml_doc = xml.dom.minidom.parseString(app.data)\n",
    "pretty_xml_as_string = xml_doc.toprettyxml()\n",
    "file = open(\"test.xml\", \"w\")\n",
    "print(pretty_xml_as_string, file=file)\n",
    "file.close()\n",
    "# get the root element\n",
    "root = xml_doc.documentElement\n",
    "\n",
    "\n",
    "# get all the package elements\n",
    "packages = xml_doc.getElementsByTagName('mapItem')\n",
    "# loop through the packages and extract the data\n",
    "for package in packages:\n",
    "    revenue_id = package.getAttribute('coaItem')\n",
    "    \n",
    "coaitem = 'RTLR'\n",
    "packages = xml_doc.getElementsByTagName('lineItem')\n",
    "\n",
    "for package in packages:\n",
    "    if package.getAttribute('coaCode') == coaitem:\n",
    "        print(package.childNodes[0].data)\n",
    "\n",
    "# description =   package.getElementsByTagName('description')[0].childNodes[0].data\n",
    "# price = package.getElementsByTagName('price')[0].childNodes[0].data\n",
    "# duration = package.getElementsByTagName('duration')[0].childNodes[0].data\n",
    "# print('Package ID:', package_id)\n",
    "# print('Description:', description)\n",
    "# print('Price:', price)"
   ]
  }
 ],
 "metadata": {
  "kernelspec": {
   "display_name": "Python 3",
   "language": "python",
   "name": "python3"
  },
  "language_info": {
   "codemirror_mode": {
    "name": "ipython",
    "version": 3
   },
   "file_extension": ".py",
   "mimetype": "text/x-python",
   "name": "python",
   "nbconvert_exporter": "python",
   "pygments_lexer": "ipython3",
   "version": "3.11.6"
  }
 },
 "nbformat": 4,
 "nbformat_minor": 2
}
