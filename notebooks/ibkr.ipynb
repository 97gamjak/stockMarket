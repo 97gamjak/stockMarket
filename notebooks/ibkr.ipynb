{
 "cells": [
  {
   "cell_type": "code",
   "execution_count": 2,
   "metadata": {},
   "outputs": [
    {
     "name": "stdout",
     "output_type": "stream",
     "text": [
      "The autoreload extension is already loaded. To reload it, use:\n",
      "  %reload_ext autoreload\n"
     ]
    }
   ],
   "source": [
    "%load_ext autoreload\n",
    "%autoreload 2\n",
    "\n",
    "import os\n",
    "import sys\n",
    "module_path = os.path.abspath(os.path.join('../'))\n",
    "if module_path not in sys.path:\n",
    "    sys.path.insert(0, module_path)"
   ]
  },
  {
   "cell_type": "markdown",
   "metadata": {},
   "source": [
    "### Download XML Files of Tickers"
   ]
  },
  {
   "cell_type": "code",
   "execution_count": 3,
   "metadata": {},
   "outputs": [],
   "source": [
    "from stockMarket.ib import StoreXMLData\n",
    "from stockMarket.stockData import StockData\n",
    "\n",
    "stock_data = StockData(\"S&P 500\")\n",
    "# storeXMLData = StoreXMLData(stock_data.companies)\n",
    "# storeXMLData.save_xml_data()\n",
    "# storeXMLData._save_xml_files()"
   ]
  },
  {
   "cell_type": "code",
   "execution_count": 15,
   "metadata": {},
   "outputs": [
    {
     "name": "stdout",
     "output_type": "stream",
     "text": [
      "WY\n",
      "[10184.0, 10201.0, 7532.0, 6554.0, 7476.0, 7196.0]\n",
      "WHR\n",
      "[19724.0, 21985.0, 19456.0, 20419.0, 21037.0, 21253.0]\n",
      "WMB\n",
      "[10965.0, 10627.0, 7719.0, 8201.0, 8686.0, 8031.0]\n",
      "WTW\n",
      "[8866.0, 8998.0, 8615.0, 8370.0, 8513.0, 8202.0]\n",
      "GWW\n",
      "[15228.0, 13022.0, 11797.0, 11486.0, 11221.0, 10425.0]\n",
      "WYNN\n",
      "[3756.825, 3763.664, 2095.861, 6611.099, 6717.66, 6070.16]\n",
      "XEL\n",
      "[15310.0, 13431.0, 11526.0, 11529.0, 11537.0, 11404.0]\n",
      "XYL\n",
      "[5522.0, 5195.0, 4876.0, 5249.0, 5207.0, 4707.0]\n",
      "YUM\n",
      "[6842.0, 6584.0, 5652.0, 5597.0, 5688.0, 5878.0]\n",
      "ZBRA\n",
      "[5781.0, 5627.0, 4448.0, 4485.0, 4218.0, 3722.0]\n",
      "ZBH\n",
      "[6939.9, 6827.3, 6127.5, 7982.2, 7932.9, 7803.3]\n",
      "ZION\n",
      "[]\n",
      "ZTS\n",
      "[8080.0, 7776.0, 6675.0, 6260.0, 5825.0, 5307.0]\n"
     ]
    }
   ],
   "source": [
    "from stockMarket.ib.finReports import FinReports\n",
    "\n",
    "fin_reports = FinReports(stock_data.companies)\n",
    "fin_reports.populate_contracts()\n",
    "for i in range(490,503):\n",
    "    print(fin_reports.contracts[i].ticker)\n",
    "    print(fin_reports.contracts[i].income.revenue)"
   ]
  },
  {
   "cell_type": "code",
   "execution_count": 40,
   "metadata": {},
   "outputs": [
    {
     "name": "stdout",
     "output_type": "stream",
     "text": [
      "[<Element 'Statement' at 0x7f8551218540>]\n",
      "[<Element 'Statement' at 0x7f855120e570>]\n",
      "[<Element 'Statement' at 0x7f85523842c0>]\n",
      "[<Element 'Statement' at 0x7f85511e2a20>]\n",
      "[<Element 'Statement' at 0x7f85511f1800>]\n",
      "[<Element 'Statement' at 0x7f85512603b0>]\n"
     ]
    }
   ],
   "source": [
    "from xml.etree import ElementTree as ET\n",
    "import numpy as np\n",
    "import glob\n",
    "\n",
    "files = glob.glob(\"../data/fin_statements/*.xml\")\n",
    "coa_map = {}\n",
    "for file in files[:1]:\n",
    "    tree = ET.parse(file)\n",
    "    root = tree.getroot()\n",
    "    fin_statement = root.find(\"FinancialStatements/AnnualPeriods\")\n",
    "    fin_statement = fin_statement.findall(\"FiscalPeriod/[@Type='Annual']\")\n",
    "    for i in fin_statement:\n",
    "        fin_statement = i.findall(\"Statement[@Type='INC']\")\n",
    "        print(fin_statement)\n"
   ]
  }
 ],
 "metadata": {
  "kernelspec": {
   "display_name": "Python 3",
   "language": "python",
   "name": "python3"
  },
  "language_info": {
   "codemirror_mode": {
    "name": "ipython",
    "version": 3
   },
   "file_extension": ".py",
   "mimetype": "text/x-python",
   "name": "python",
   "nbconvert_exporter": "python",
   "pygments_lexer": "ipython3",
   "version": "3.12.1"
  }
 },
 "nbformat": 4,
 "nbformat_minor": 2
}
