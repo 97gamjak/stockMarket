{
 "cells": [
  {
   "cell_type": "code",
   "execution_count": 1,
   "metadata": {},
   "outputs": [],
   "source": [
    "%reload_ext autoreload\n",
    "%autoreload 2\n",
    "\n",
    "import os\n",
    "import sys\n",
    "module_path = os.path.abspath(os.path.join('..'))\n",
    "if module_path not in sys.path:\n",
    "    sys.path.append(module_path)"
   ]
  },
  {
   "cell_type": "markdown",
   "metadata": {},
   "source": [
    "### Setup Tickers"
   ]
  },
  {
   "cell_type": "code",
   "execution_count": 2,
   "metadata": {},
   "outputs": [],
   "source": [
    "from stockMarket.core import get_tickers_from_index, get_currencies_from_index\n",
    "from stockMarket.core import Contracts, Contract\n",
    "\n",
    "ticker_currency_tuples = get_currencies_from_index(\"s&p500\")\n",
    "contracts = []\n",
    "for ticker, currency in ticker_currency_tuples:\n",
    "    contracts.append(Contract(ticker=ticker, currency=currency))\n",
    "contracts = Contracts(contracts)"
   ]
  },
  {
   "cell_type": "markdown",
   "metadata": {},
   "source": [
    "### Download XML Files of Tickers"
   ]
  },
  {
   "cell_type": "code",
   "execution_count": 3,
   "metadata": {},
   "outputs": [
    {
     "name": "stderr",
     "output_type": "stream",
     "text": [
      "Downloading XML data: 100%|██████████| 503/503 [04:10<00:00,  2.00it/s]\n",
      "Saving XML files: 100%|██████████| 500/500 [00:02<00:00, 229.45it/s]\n"
     ]
    }
   ],
   "source": [
    "from stockMarket.ib import StoreXMLData\n",
    "from stockMarket.core import Contract\n",
    "\n",
    "storeXMLData = StoreXMLData(contracts)\n",
    "storeXMLData.save_xml_data()"
   ]
  },
  {
   "cell_type": "code",
   "execution_count": 14,
   "metadata": {},
   "outputs": [],
   "source": [
    "from stockMarket.ib.finReportsMerger import FinReportsMerger\n",
    "\n",
    "finReportsMerger = FinReportsMerger()\n",
    "finReportsMerger.merge()\n",
    "finReportsMerger.clean_up()"
   ]
  }
 ],
 "metadata": {
  "kernelspec": {
   "display_name": "Python 3",
   "language": "python",
   "name": "python3"
  },
  "language_info": {
   "codemirror_mode": {
    "name": "ipython",
    "version": 3
   },
   "file_extension": ".py",
   "mimetype": "text/x-python",
   "name": "python",
   "nbconvert_exporter": "python",
   "pygments_lexer": "ipython3",
   "version": "3.11.6"
  }
 },
 "nbformat": 4,
 "nbformat_minor": 2
}
