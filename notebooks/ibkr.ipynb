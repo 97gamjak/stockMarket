{
 "cells": [
  {
   "cell_type": "code",
   "execution_count": 2,
   "metadata": {},
   "outputs": [],
   "source": [
    "import os\n",
    "import sys\n",
    "module_path = os.path.abspath(os.path.join('..'))\n",
    "if module_path not in sys.path:\n",
    "    sys.path.append(module_path)"
   ]
  },
  {
   "cell_type": "markdown",
   "metadata": {},
   "source": [
    "### Download XML Files of Tickers"
   ]
  },
  {
   "cell_type": "code",
   "execution_count": 6,
   "metadata": {},
   "outputs": [
    {
     "name": "stderr",
     "output_type": "stream",
     "text": [
      "Downloading XML data:   2%|▏         | 11/503 [00:12<08:47,  1.07s/it]Error 200, reqId 14: The contract description specified for ABNB is ambiguous., contract: Contract(secType='STK', symbol='ABNB', exchange='SMART', currency='USD', secId='US0090661010')\n",
      "Downloading XML data:   3%|▎         | 14/503 [00:15<09:01,  1.11s/it]"
     ]
    }
   ],
   "source": [
    "from stockMarket.finReports import StoreXMLData\n",
    "from stockMarket.stockData import StockData\n",
    "\n",
    "stock_data = StockData(\"S&P 500\")\n",
    "storeXMLData = StoreXMLData(stock_data.companies)\n",
    "storeXMLData.save_xml_data()\n",
    "# storeXMLData._save_xml_files()"
   ]
  },
  {
   "cell_type": "code",
   "execution_count": 4,
   "metadata": {},
   "outputs": [
    {
     "data": {
      "text/plain": [
       "[282836000000.0,\n",
       " 257637000000.0,\n",
       " 182527000000.0,\n",
       " 161857000000.0,\n",
       " 136819000000.0,\n",
       " 110855000000.0]"
      ]
     },
     "execution_count": 4,
     "metadata": {},
     "output_type": "execute_result"
    }
   ],
   "source": [
    "from xml.etree import ElementTree as ET\n",
    "\n",
    "tree = ET.parse('../data/fin_statements/GOOG_fin_statements.xml')\n",
    "root = tree.getroot()\n",
    "fin_statement = root.find(\"FinancialStatements\")\n",
    "coa_map = fin_statement.find(\"COAMap\")\n",
    "for child in coa_map:\n",
    "    if child.text == \"Revenue\":\n",
    "        coa_item = child.attrib[\"coaItem\"]\n",
    "        \n",
    "annual_data = fin_statement.find(\"AnnualPeriods\")\n",
    "data = annual_data.findall(f\".//*[@coaCode='{coa_item}']\")\n",
    "[float(i.text) * 10**6 for i in data]"
   ]
  },
  {
   "cell_type": "code",
   "execution_count": 59,
   "metadata": {},
   "outputs": [
    {
     "name": "stdout",
     "output_type": "stream",
     "text": [
      "211915.000000\n",
      "198270.000000\n",
      "168088.000000\n",
      "143015.000000\n",
      "125843.000000\n",
      "110360.000000\n",
      "56517.000000\n",
      "56189.000000\n",
      "52857.000000\n",
      "52747.000000\n",
      "50122.000000\n"
     ]
    }
   ],
   "source": [
    "import xml.dom.minidom\n",
    "# parse the XML file\n",
    "\n",
    "xml_doc = xml.dom.minidom.parseString(app.data)\n",
    "pretty_xml_as_string = xml_doc.toprettyxml()\n",
    "file = open(\"test.xml\", \"w\")\n",
    "print(pretty_xml_as_string, file=file)\n",
    "file.close()\n",
    "# get the root element\n",
    "root = xml_doc.documentElement\n",
    "\n",
    "\n",
    "# get all the package elements\n",
    "packages = xml_doc.getElementsByTagName('mapItem')\n",
    "# loop through the packages and extract the data\n",
    "for package in packages:\n",
    "    revenue_id = package.getAttribute('coaItem')\n",
    "    \n",
    "coaitem = 'RTLR'\n",
    "packages = xml_doc.getElementsByTagName('lineItem')\n",
    "\n",
    "for package in packages:\n",
    "    if package.getAttribute('coaCode') == coaitem:\n",
    "        print(package.childNodes[0].data)\n",
    "\n",
    "# description =   package.getElementsByTagName('description')[0].childNodes[0].data\n",
    "# price = package.getElementsByTagName('price')[0].childNodes[0].data\n",
    "# duration = package.getElementsByTagName('duration')[0].childNodes[0].data\n",
    "# print('Package ID:', package_id)\n",
    "# print('Description:', description)\n",
    "# print('Price:', price)"
   ]
  }
 ],
 "metadata": {
  "kernelspec": {
   "display_name": "Python 3",
   "language": "python",
   "name": "python3"
  },
  "language_info": {
   "codemirror_mode": {
    "name": "ipython",
    "version": 3
   },
   "file_extension": ".py",
   "mimetype": "text/x-python",
   "name": "python",
   "nbconvert_exporter": "python",
   "pygments_lexer": "ipython3",
   "version": "3.11.6"
  }
 },
 "nbformat": 4,
 "nbformat_minor": 2
}
