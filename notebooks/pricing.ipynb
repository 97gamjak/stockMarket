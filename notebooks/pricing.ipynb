{
 "cells": [
  {
   "cell_type": "code",
   "execution_count": 2,
   "metadata": {},
   "outputs": [],
   "source": [
    "%reload_ext autoreload\n",
    "%autoreload 2\n",
    "\n",
    "import os\n",
    "import sys\n",
    "module_path = os.path.abspath(os.path.join('..'))\n",
    "if module_path not in sys.path:\n",
    "    sys.path.append(module_path)"
   ]
  },
  {
   "cell_type": "code",
   "execution_count": 11,
   "metadata": {},
   "outputs": [
    {
     "data": {
      "text/plain": [
       "42.31"
      ]
     },
     "execution_count": 11,
     "metadata": {},
     "output_type": "execute_result"
    }
   ],
   "source": [
    "from stockMarket.core.pricing import Pricing\n",
    "import datetime as dt\n",
    "\n",
    "pricing = Pricing(ticker='AAPL')\n",
    "pricing.get_pricing_data()[:dt.date(2018, 1, 1)].iloc[-1].close\n"
   ]
  },
  {
   "cell_type": "code",
   "execution_count": 3,
   "metadata": {},
   "outputs": [],
   "source": [
    "from stockMarket.core import get_tickers_from_index\n",
    "\n",
    "tickers = get_tickers_from_index('sp500')"
   ]
  },
  {
   "cell_type": "code",
   "execution_count": 11,
   "metadata": {},
   "outputs": [
    {
     "name": "stderr",
     "output_type": "stream",
     "text": [
      "100%|██████████| 1/1 [00:00<00:00,  1.14it/s]"
     ]
    },
    {
     "name": "stdout",
     "output_type": "stream",
     "text": [
      "14389\n",
      "5000\n",
      "5000\n",
      "                    symbol        open        high         low       close  \\\n",
      "datetime                                                                     \n",
      "2004-04-07 15:30:00  :AAPL    0.493214    0.494642    0.480714    0.487678   \n",
      "2004-04-08 15:30:00  :AAPL    0.498214    0.500000    0.485714    0.491607   \n",
      "2004-04-12 15:30:00  :AAPL    0.491071    0.501785    0.490893    0.500714   \n",
      "2004-04-13 15:30:00  :AAPL    0.500000    0.500535    0.479285    0.480892   \n",
      "2004-04-14 15:30:00  :AAPL    0.477500    0.483393    0.469821    0.475714   \n",
      "...                    ...         ...         ...         ...         ...   \n",
      "2024-02-12 15:30:00  :AAPL  188.415000  188.670000  186.790000  187.150000   \n",
      "2024-02-13 15:30:00  :AAPL  185.770000  186.210000  183.512800  185.040000   \n",
      "2024-02-14 15:30:00  :AAPL  185.320000  185.530000  182.440000  184.150000   \n",
      "2024-02-15 15:30:00  :AAPL  183.550000  184.490000  181.350000  183.860000   \n",
      "2024-02-16 15:30:00  :AAPL  183.420000  184.850000  181.665000  182.310000   \n",
      "\n",
      "                          volume  \n",
      "datetime                          \n",
      "2004-04-07 15:30:00  255294172.0  \n",
      "2004-04-08 15:30:00  240913136.0  \n",
      "2004-04-12 15:30:00  230536940.0  \n",
      "2004-04-13 15:30:00  436616028.0  \n",
      "2004-04-14 15:30:00  651151568.0  \n",
      "...                          ...  \n",
      "2024-02-12 15:30:00   41781934.0  \n",
      "2024-02-13 15:30:00   56529529.0  \n",
      "2024-02-14 15:30:00   54630517.0  \n",
      "2024-02-15 15:30:00   65434496.0  \n",
      "2024-02-16 15:30:00   49752465.0  \n",
      "\n",
      "[5000 rows x 6 columns]\n"
     ]
    },
    {
     "name": "stderr",
     "output_type": "stream",
     "text": [
      "\n"
     ]
    }
   ],
   "source": [
    "from stockMarket.core.pricing import Pricing\n",
    "from tqdm import tqdm\n",
    "\n",
    "for ticker in tqdm(tickers):\n",
    "    pricing = Pricing(ticker=ticker)\n",
    "    pricing.update_prices()"
   ]
  }
 ],
 "metadata": {
  "kernelspec": {
   "display_name": ".venv",
   "language": "python",
   "name": "python3"
  },
  "language_info": {
   "codemirror_mode": {
    "name": "ipython",
    "version": 3
   },
   "file_extension": ".py",
   "mimetype": "text/x-python",
   "name": "python",
   "nbconvert_exporter": "python",
   "pygments_lexer": "ipython3",
   "version": "3.12.1"
  }
 },
 "nbformat": 4,
 "nbformat_minor": 2
}
