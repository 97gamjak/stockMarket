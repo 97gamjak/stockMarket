{
 "cells": [
  {
   "cell_type": "code",
   "execution_count": 1,
   "metadata": {},
   "outputs": [],
   "source": [
    "%reload_ext autoreload\n",
    "%autoreload 2\n",
    "\n",
    "import os\n",
    "import sys\n",
    "module_path = os.path.abspath(os.path.join('..'))\n",
    "if module_path not in sys.path:\n",
    "    sys.path.append(module_path)"
   ]
  },
  {
   "cell_type": "code",
   "execution_count": 2,
   "metadata": {},
   "outputs": [],
   "source": [
    "from stockMarket.core import get_tickers_from_index\n",
    "from stockMarket.api import populate_contracts\n",
    "\n",
    "tickers = get_tickers_from_index('sp500')\n",
    "# contracts = populate_contracts(tickers)"
   ]
  },
  {
   "cell_type": "code",
   "execution_count": 62,
   "metadata": {},
   "outputs": [
    {
     "name": "stderr",
     "output_type": "stream",
     "text": [
      "100%|██████████| 1/1 [00:00<00:00,  1.79it/s]\n",
      " 50%|████▉     | 249/503 [00:00<00:00, 2488.53it/s]/home/jag/projects/stockMarket/stockMarket/sec_edgar/downloader.py:51: UserWarning: No 10-K reports found for KVUE with cik 0001944048\n",
      "  warnings.warn(message, UserWarning)\n",
      "100%|██████████| 503/503 [00:00<00:00, 2730.21it/s]\n"
     ]
    }
   ],
   "source": [
    "from stockMarket.sec_edgar.downloader import Downloader\n",
    "\n",
    "tickers = [ticker.replace(\".\", \"-\") for ticker in tickers]\n",
    "\n",
    "dl = Downloader(tickers=tickers)\n",
    "dl.download_10k_reports(fast_download=True)\n",
    "dl.download_financial_statements_xlsx(from_year=2014)"
   ]
  },
  {
   "cell_type": "code",
   "execution_count": 177,
   "metadata": {},
   "outputs": [
    {
     "name": "stderr",
     "output_type": "stream",
     "text": [
      "  0%|          | 0/502 [00:00<?, ?it/s]"
     ]
    },
    {
     "name": "stderr",
     "output_type": "stream",
     "text": [
      "100%|██████████| 502/502 [00:05<00:00, 83.85it/s]\n"
     ]
    }
   ],
   "source": [
    "import glob\n",
    "\n",
    "from stockMarket.sec_edgar.financialReportReader import FinancialReportReader\n",
    "from tqdm import tqdm\n",
    "from zipfile import BadZipFile\n",
    "\n",
    "key_combinations = []\n",
    "\n",
    "for ticker in tqdm(sorted(tickers)):\n",
    "# for ticker in tqdm(sorted(tickers)[492:]):\n",
    "    files = glob.glob(f\"../data/sec-edgar-filings/{ticker}/10-K/*/Financial_Report.xlsx\")\n",
    "\n",
    "    for file in files:\n",
    "        if 14 < int(file.split(\"-\")[-2]) <= 24:\n",
    "            try:\n",
    "                reader = FinancialReportReader(file)\n",
    "                reader.read()\n",
    "                key_combinations += reader.key_combinations\n",
    "            except BadZipFile as e:\n",
    "                print(f\"BadZipFile: {ticker}\")\n",
    "                raise e"
   ]
  },
  {
   "cell_type": "code",
   "execution_count": 78,
   "metadata": {},
   "outputs": [
    {
     "name": "stderr",
     "output_type": "stream",
     "text": [
      " 22%|██▏       | 104/470 [11:37<30:38,  5.02s/it] /home/jag/Trading/stockMarket/stockMarket/sec_edgar/financialReportCollecter.py:95: UserWarning: CRM does not have all reports for the years 14 to 24\n",
      "  warnings.warn(\n",
      " 26%|██▌       | 123/470 [13:13<25:40,  4.44s/it]/home/jag/Trading/stockMarket/stockMarket/sec_edgar/financialReportCollecter.py:95: UserWarning: DHI does not have all reports for the years 14 to 24\n",
      "  warnings.warn(\n",
      " 42%|████▏     | 196/470 [22:29<14:40,  3.21s/it]  /home/jag/Trading/stockMarket/stockMarket/sec_edgar/financialReportCollecter.py:95: UserWarning: GPN does not have all reports for the years 14 to 24\n",
      "  warnings.warn(\n",
      " 48%|████▊     | 226/470 [25:01<19:32,  4.80s/it]/home/jag/Trading/stockMarket/stockMarket/sec_edgar/financialReportCollecter.py:95: UserWarning: IP does not have all reports for the years 14 to 24\n",
      "  warnings.warn(\n",
      " 54%|█████▍    | 253/470 [27:54<22:06,  6.11s/it]/home/jag/Trading/stockMarket/stockMarket/sec_edgar/financialReportCollecter.py:95: UserWarning: LDOS does not have all reports for the years 14 to 24\n",
      "  warnings.warn(\n",
      " 54%|█████▍    | 256/470 [28:14<23:12,  6.51s/it]/home/jag/Trading/stockMarket/stockMarket/sec_edgar/financialReportCollecter.py:95: UserWarning: LHX does not have all reports for the years 14 to 24\n",
      "  warnings.warn(\n",
      "100%|██████████| 470/470 [51:52<00:00,  6.62s/it]\n"
     ]
    },
    {
     "data": {
      "text/plain": [
       "[]"
      ]
     },
     "execution_count": 78,
     "metadata": {},
     "output_type": "execute_result"
    }
   ],
   "source": [
    "from zipfile import BadZipFile\n",
    "\n",
    "from stockMarket.sec_edgar.financialReportCollecter import FinancialReportCollecter\n",
    "\n",
    "tickers = [ticker.replace(\".\", \"-\") for ticker in tickers if ticker != \"KVUE\"]\n",
    "\n",
    "new_tickers = []\n",
    "new_tickers.clear()\n",
    "for ticker in sorted(tickers):\n",
    "    if ticker in [\"ZION\", \"WFC\", \"USB\", \"TFC\", \"SYF\", \"RF\", \"NTRS\", \"L\", \"KEY\", \"HBAN\", \"FITB\", \"DFS\", \"COF\", \"CMA\", \"MTB\", \"NVR\", \"AXP\", \"BAC\", \"BK\", \"C\", \"CARR\", \"CDW\", \"CFG\"]:\n",
    "        continue\n",
    "    \n",
    "    if ticker in [\"ABNB\", \"HPQ\", \"INVH\", \"O\", \"GEHC\", \"LIN\", \"ALLE\", \"HLT\", \"KEYS\"]: # ABNB 2021 no data available and only 24, 23, 22 are available\n",
    "        continue\n",
    "    \n",
    "    new_tickers.append(ticker)\n",
    "    \n",
    "collecter = FinancialReportCollecter(tickers=new_tickers)\n",
    "collecter.collect(update=True)\n",
    "collecter.error_messages"
   ]
  },
  {
   "cell_type": "code",
   "execution_count": 73,
   "metadata": {},
   "outputs": [
    {
     "name": "stderr",
     "output_type": "stream",
     "text": [
      "  5%|▌         | 24/465 [00:06<02:00,  3.66it/s]"
     ]
    },
    {
     "name": "stdout",
     "output_type": "stream",
     "text": [
      "AMD\n",
      "[22680. 23601. 16434.  9763.  6731.  6475.  5253.]\n",
      "[22680. 23601. 16434.  9763.  6731.  6475.  5329.]\n",
      "['2023-12-30' '2022-12-31' '2021-12-25' '2020-12-26' '2019-12-28'\n",
      " '2018-12-29' '2017-12-30']\n",
      "['2023-12-30' '2022-12-31' '2021-12-25' '2020-12-26' '2019-12-28'\n",
      " '2018-12-29' '2017-12-30']\n"
     ]
    },
    {
     "name": "stderr",
     "output_type": "stream",
     "text": [
      "\n"
     ]
    }
   ],
   "source": [
    "import numpy as np\n",
    "\n",
    "from stockMarket.sec_edgar.financialReportChecker import FinancialReportChecker\n",
    "from tqdm import tqdm\n",
    "\n",
    "correct_tickers = []\n",
    "\n",
    "#correct until -18-\n",
    "# checked_tickers = [\"AAL\", \"ACN\", \"AEE\", \"AJG\", \"AKAM\"]\n",
    "\n",
    "# #correct until -19-\n",
    "# checked_tickers += [\"ADP\", \"AMAT\"]\n",
    "\n",
    "# checked_tickers += [\"ACGL\", \"AFL\", \"AIG\", \"AIZ\", \"ALL\"]\n",
    "\n",
    "for ticker in tqdm(sorted(new_tickers)):\n",
    "    try:\n",
    "        checker = FinancialReportChecker(ticker)\n",
    "        checked = checker.check_data()\n",
    "    except Exception as e:\n",
    "        print(f\"Exception: {ticker}\")\n",
    "        raise e\n",
    "    \n",
    "    \n",
    "    if not checked and ticker not in checked_tickers:\n",
    "        print(ticker)\n",
    "        print(checker.ref_revenue)\n",
    "        print(checker.revenue[:len(checker.ref_revenue)])\n",
    "        print(np.array([str(date) for date in checker.ref_dates]))\n",
    "        print(checker.dates[:len(checker.ref_revenue)])\n",
    "        break\n",
    "    else:\n",
    "        correct_tickers.append(ticker)\n",
    "    "
   ]
  },
  {
   "cell_type": "code",
   "execution_count": 244,
   "metadata": {},
   "outputs": [
    {
     "name": "stdout",
     "output_type": "stream",
     "text": [
      "A\n",
      "AAL\n",
      "AAPL\n",
      "ABBV\n",
      "ABT\n"
     ]
    }
   ],
   "source": [
    "for ticker in correct_tickers:\n",
    "    print(ticker)"
   ]
  }
 ],
 "metadata": {
  "kernelspec": {
   "display_name": ".venv",
   "language": "python",
   "name": "python3"
  },
  "language_info": {
   "codemirror_mode": {
    "name": "ipython",
    "version": 3
   },
   "file_extension": ".py",
   "mimetype": "text/x-python",
   "name": "python",
   "nbconvert_exporter": "python",
   "pygments_lexer": "ipython3",
   "version": "3.11.6"
  }
 },
 "nbformat": 4,
 "nbformat_minor": 2
}
