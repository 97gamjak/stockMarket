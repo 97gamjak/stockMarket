{
 "cells": [
  {
   "cell_type": "code",
   "execution_count": 1,
   "metadata": {},
   "outputs": [],
   "source": [
    "%reload_ext autoreload\n",
    "%autoreload 2\n",
    "\n",
    "import os\n",
    "import sys\n",
    "module_path = os.path.abspath(os.path.join('..'))\n",
    "if module_path not in sys.path:\n",
    "    sys.path.append(module_path)"
   ]
  },
  {
   "cell_type": "code",
   "execution_count": 2,
   "metadata": {},
   "outputs": [],
   "source": [
    "from stockMarket.core import get_tickers_from_index\n",
    "from stockMarket.api import populate_contracts\n",
    "\n",
    "tickers = get_tickers_from_index('sp500')\n",
    "# contracts = populate_contracts(tickers)"
   ]
  },
  {
   "cell_type": "code",
   "execution_count": 62,
   "metadata": {},
   "outputs": [
    {
     "name": "stderr",
     "output_type": "stream",
     "text": [
      "100%|██████████| 1/1 [00:00<00:00,  1.79it/s]\n",
      " 50%|████▉     | 249/503 [00:00<00:00, 2488.53it/s]/home/jag/projects/stockMarket/stockMarket/sec_edgar/downloader.py:51: UserWarning: No 10-K reports found for KVUE with cik 0001944048\n",
      "  warnings.warn(message, UserWarning)\n",
      "100%|██████████| 503/503 [00:00<00:00, 2730.21it/s]\n"
     ]
    }
   ],
   "source": [
    "from stockMarket.sec_edgar.downloader import Downloader\n",
    "\n",
    "tickers = [ticker.replace(\".\", \"-\") for ticker in tickers]\n",
    "\n",
    "dl = Downloader(tickers=tickers)\n",
    "dl.download_10k_reports(fast_download=True)\n",
    "dl.download_financial_statements_xlsx(from_year=2014)"
   ]
  },
  {
   "cell_type": "code",
   "execution_count": 125,
   "metadata": {},
   "outputs": [
    {
     "name": "stderr",
     "output_type": "stream",
     "text": [
      "  3%|▎         | 16/503 [00:59<30:04,  3.71s/it]\n"
     ]
    },
    {
     "ename": "ValueError",
     "evalue": "No revenue found for file ../data/sec-edgar-filings/AEE/10-K/0001002910-21-000065/Financial_Report.xlsx",
     "output_type": "error",
     "traceback": [
      "\u001b[0;31m---------------------------------------------------------------------------\u001b[0m",
      "\u001b[0;31mValueError\u001b[0m                                Traceback (most recent call last)",
      "Cell \u001b[0;32mIn[125], line 15\u001b[0m\n\u001b[1;32m     13\u001b[0m \u001b[38;5;28;01mif\u001b[39;00m \u001b[38;5;241m14\u001b[39m \u001b[38;5;241m<\u001b[39m \u001b[38;5;28mint\u001b[39m(file\u001b[38;5;241m.\u001b[39msplit(\u001b[38;5;124m\"\u001b[39m\u001b[38;5;124m-\u001b[39m\u001b[38;5;124m\"\u001b[39m)[\u001b[38;5;241m-\u001b[39m\u001b[38;5;241m2\u001b[39m]) \u001b[38;5;241m<\u001b[39m\u001b[38;5;241m=\u001b[39m \u001b[38;5;241m24\u001b[39m:\n\u001b[1;32m     14\u001b[0m     reader \u001b[38;5;241m=\u001b[39m FinancialReportReader(file)\n\u001b[0;32m---> 15\u001b[0m     \u001b[43mreader\u001b[49m\u001b[38;5;241;43m.\u001b[39;49m\u001b[43mread\u001b[49m\u001b[43m(\u001b[49m\u001b[43m)\u001b[49m\n",
      "File \u001b[0;32m~/projects/stockMarket/stockMarket/sec_edgar/financialReportReader.py:15\u001b[0m, in \u001b[0;36mFinancialReportReader.read\u001b[0;34m(self)\u001b[0m\n\u001b[1;32m     14\u001b[0m \u001b[38;5;28;01mdef\u001b[39;00m \u001b[38;5;21mread\u001b[39m(\u001b[38;5;28mself\u001b[39m):\n\u001b[0;32m---> 15\u001b[0m     \u001b[38;5;28;43mself\u001b[39;49m\u001b[38;5;241;43m.\u001b[39;49m\u001b[43mread_income\u001b[49m\u001b[43m(\u001b[49m\u001b[43m)\u001b[49m\n",
      "File \u001b[0;32m~/projects/stockMarket/stockMarket/sec_edgar/financialReportReader.py:42\u001b[0m, in \u001b[0;36mFinancialReportReader.read_income\u001b[0;34m(self)\u001b[0m\n\u001b[1;32m     27\u001b[0m \u001b[38;5;66;03m# higher weight on total revenue\u001b[39;00m\n\u001b[1;32m     28\u001b[0m income_keys \u001b[38;5;241m=\u001b[39m {\n\u001b[1;32m     29\u001b[0m     \u001b[38;5;124m\"\u001b[39m\u001b[38;5;124mrevenue\u001b[39m\u001b[38;5;124m\"\u001b[39m: {\n\u001b[1;32m     30\u001b[0m         \u001b[38;5;124m\"\u001b[39m\u001b[38;5;124msales\u001b[39m\u001b[38;5;124m\"\u001b[39m: \u001b[38;5;241m1\u001b[39m,\n\u001b[0;32m   (...)\u001b[0m\n\u001b[1;32m     39\u001b[0m     },\n\u001b[1;32m     40\u001b[0m }\n\u001b[0;32m---> 42\u001b[0m revenue \u001b[38;5;241m=\u001b[39m \u001b[38;5;28;43mself\u001b[39;49m\u001b[38;5;241;43m.\u001b[39;49m\u001b[43m_get_value_from_df\u001b[49m\u001b[43m(\u001b[49m\n\u001b[1;32m     43\u001b[0m \u001b[43m    \u001b[49m\u001b[43mdf\u001b[49m\u001b[43m,\u001b[49m\u001b[43m \u001b[49m\u001b[38;5;124;43m\"\u001b[39;49m\u001b[38;5;124;43mrevenue\u001b[39;49m\u001b[38;5;124;43m\"\u001b[39;49m\u001b[43m,\u001b[49m\u001b[43m \u001b[49m\u001b[43mkey_column\u001b[49m\u001b[43m,\u001b[49m\u001b[43m \u001b[49m\u001b[43mincome_keys\u001b[49m\u001b[43m)\u001b[49m\n",
      "File \u001b[0;32m~/projects/stockMarket/stockMarket/sec_edgar/financialReportReader.py:110\u001b[0m, in \u001b[0;36mFinancialReportReader._get_value_from_df\u001b[0;34m(self, df, key_to_find, key_column, key_dict)\u001b[0m\n\u001b[1;32m    107\u001b[0m     values\u001b[38;5;241m.\u001b[39mappend(single_key_values)\n\u001b[1;32m    109\u001b[0m \u001b[38;5;28;01mif\u001b[39;00m \u001b[38;5;28mlen\u001b[39m(values) \u001b[38;5;241m==\u001b[39m \u001b[38;5;241m0\u001b[39m:\n\u001b[0;32m--> 110\u001b[0m     \u001b[38;5;28;01mraise\u001b[39;00m \u001b[38;5;167;01mValueError\u001b[39;00m(\n\u001b[1;32m    111\u001b[0m         \u001b[38;5;124mf\u001b[39m\u001b[38;5;124m\"\u001b[39m\u001b[38;5;124mNo revenue found for file \u001b[39m\u001b[38;5;132;01m{\u001b[39;00m\u001b[38;5;28mself\u001b[39m\u001b[38;5;241m.\u001b[39mfilename\u001b[38;5;132;01m}\u001b[39;00m\u001b[38;5;124m\"\u001b[39m)\n\u001b[1;32m    112\u001b[0m \u001b[38;5;28;01melif\u001b[39;00m \u001b[38;5;28mlen\u001b[39m(values) \u001b[38;5;241m>\u001b[39m \u001b[38;5;241m1\u001b[39m:\n\u001b[1;32m    113\u001b[0m     values \u001b[38;5;241m=\u001b[39m [value[\u001b[38;5;241m0\u001b[39m] \u001b[38;5;28;01mfor\u001b[39;00m value \u001b[38;5;129;01min\u001b[39;00m values]\n",
      "\u001b[0;31mValueError\u001b[0m: No revenue found for file ../data/sec-edgar-filings/AEE/10-K/0001002910-21-000065/Financial_Report.xlsx"
     ]
    }
   ],
   "source": [
    "import glob\n",
    "\n",
    "from stockMarket.sec_edgar.financialReportReader import FinancialReportReader\n",
    "from tqdm import tqdm\n",
    "\n",
    "for ticker in tqdm(tickers):\n",
    "    files = glob.glob(f\"../data/sec-edgar-filings/{ticker}/10-K/*/Financial_Report.xlsx\")\n",
    "    \n",
    "    if ticker in [\"MTB\", \"NVR\"]:\n",
    "        continue\n",
    "    \n",
    "    #something wrong with the statement\n",
    "    if ticker in [\"AEE\"]:\n",
    "        continue\n",
    "\n",
    "    for file in files:\n",
    "        if 14 < int(file.split(\"-\")[-2]) <= 24:\n",
    "            reader = FinancialReportReader(file)\n",
    "            reader.read()"
   ]
  }
 ],
 "metadata": {
  "kernelspec": {
   "display_name": ".venv",
   "language": "python",
   "name": "python3"
  },
  "language_info": {
   "codemirror_mode": {
    "name": "ipython",
    "version": 3
   },
   "file_extension": ".py",
   "mimetype": "text/x-python",
   "name": "python",
   "nbconvert_exporter": "python",
   "pygments_lexer": "ipython3",
   "version": "3.12.1"
  }
 },
 "nbformat": 4,
 "nbformat_minor": 2
}
