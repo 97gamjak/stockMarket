{
 "cells": [
  {
   "cell_type": "code",
   "execution_count": 1,
   "metadata": {},
   "outputs": [],
   "source": [
    "import os\n",
    "import sys\n",
    "module_path = os.path.abspath(os.path.join('..'))\n",
    "if module_path not in sys.path:\n",
    "    sys.path.append(module_path)"
   ]
  },
  {
   "cell_type": "markdown",
   "metadata": {},
   "source": [
    "## Retrieve Data"
   ]
  },
  {
   "cell_type": "code",
   "execution_count": 2,
   "metadata": {},
   "outputs": [
    {
     "name": "stdout",
     "output_type": "stream",
     "text": [
      "\n",
      "Downloading tickers...\n",
      "\n"
     ]
    },
    {
     "name": "stderr",
     "output_type": "stream",
     "text": [
      "100%|██████████| 503/503 [00:00<00:00, 162013.12it/s]\n"
     ]
    },
    {
     "name": "stdout",
     "output_type": "stream",
     "text": [
      "Retrieve info data from Yahoo Finance...\n"
     ]
    },
    {
     "name": "stderr",
     "output_type": "stream",
     "text": [
      "100%|██████████| 503/503 [01:25<00:00,  5.88it/s]\n"
     ]
    },
    {
     "name": "stdout",
     "output_type": "stream",
     "text": [
      "Retrieve cashflow data from Yahoo Finance...\n"
     ]
    },
    {
     "name": "stderr",
     "output_type": "stream",
     "text": [
      "100%|██████████| 503/503 [01:11<00:00,  7.07it/s]\n"
     ]
    },
    {
     "name": "stdout",
     "output_type": "stream",
     "text": [
      "Retrieve financials data from Yahoo Finance...\n"
     ]
    },
    {
     "name": "stderr",
     "output_type": "stream",
     "text": [
      "100%|██████████| 503/503 [01:03<00:00,  7.98it/s]\n"
     ]
    },
    {
     "name": "stdout",
     "output_type": "stream",
     "text": [
      "Retrieve balancesheet data from Yahoo Finance...\n"
     ]
    },
    {
     "name": "stderr",
     "output_type": "stream",
     "text": [
      "100%|██████████| 503/503 [01:16<00:00,  6.61it/s]\n"
     ]
    },
    {
     "name": "stdout",
     "output_type": "stream",
     "text": [
      "Retrieve calendar data from Yahoo Finance...\n"
     ]
    },
    {
     "name": "stderr",
     "output_type": "stream",
     "text": [
      "100%|██████████| 503/503 [00:34<00:00, 14.54it/s]\n"
     ]
    }
   ],
   "source": [
    "from stockMarket.stockData import StockData\n",
    "\n",
    "stock_data = StockData(\"S&P 500\")\n",
    "stock_data.init_data()"
   ]
  },
  {
   "cell_type": "markdown",
   "metadata": {},
   "source": [
    "## Screening Data"
   ]
  },
  {
   "cell_type": "code",
   "execution_count": 23,
   "metadata": {},
   "outputs": [],
   "source": [
    "from stockMarket.stockScreener import StockScreener\n",
    "\n",
    "screen_information = {\n",
    "'dividendYield' : [0.1, None], # in percent\n",
    "'price' : [None, 40],\n",
    "'trailingPE' : [0, 30],\n",
    "'forwardPE' : [0, 30],\n",
    "'revenueGrowth' : [0, None], # in percent\n",
    "'operatingCashflow' : [0, None], # in billions\n",
    "'equityRatio' : [30, None], # in percent\n",
    "'ebitdaMargin' : [15, None], # in percent\n",
    "'minNetIncome' : [0, None], # in billions\n",
    "}\n",
    "\n",
    "stock_screener = StockScreener(stock_data)\n",
    "selected_tickers = stock_screener.screen(screen_information)\n",
    "# stock_screener.write_email([\"benjaminlantschner@gmail.com\", \"97gamjak@gmail.com\"])\n",
    "# stock_screener.write_email([\"97gamjak@gmail.com\"])\n",
    "# stock_screener.write_email([\"benjaminlantschner@gmail.com\"])\n"
   ]
  },
  {
   "cell_type": "code",
   "execution_count": 3,
   "metadata": {},
   "outputs": [],
   "source": [
    "from stockMarket.stockScreener import StockScreener\n",
    "\n",
    "screen_information = {\n",
    "# 'price' : [None, 40],\n",
    "'trailingPE' : [0, 30],\n",
    "'forwardPE' : [0, 30],\n",
    "'revenueGrowth' : [0, None], # in percent\n",
    "'operatingCashflow' : [0, None], # in billions\n",
    "'equityRatio' : [30, None], # in percent\n",
    "'ebitdaMargin' : [15, None], # in percent\n",
    "'minNetIncome' : [0, None], # in billions   \n",
    "# 'dividendYield' : [0.1, None], # in percent\n",
    "}\n",
    "\n",
    "stock_screener = StockScreener(stock_data)\n",
    "selected_tickers = stock_screener.continuous_screen(screen_information)\n",
    "stock_screener.write_email([\"benjaminlantschner@gmail.com\", \"97gamjak@gmail.com\"])\n",
    "# stock_screener.write_email([\"97gamjak@gmail.com\"])\n",
    "# stock_screener.write_email([\"benjaminlantschner@gmail.com\"])\n"
   ]
  },
  {
   "cell_type": "code",
   "execution_count": 20,
   "metadata": {},
   "outputs": [
    {
     "name": "stdout",
     "output_type": "stream",
     "text": [
      "\n",
      "Screening Long Name...\n",
      "\n"
     ]
    },
    {
     "name": "stderr",
     "output_type": "stream",
     "text": [
      "100%|██████████| 503/503 [00:00<00:00, 324076.02it/s]\n"
     ]
    },
    {
     "name": "stdout",
     "output_type": "stream",
     "text": [
      "\n",
      "Screening Sector...\n",
      "\n"
     ]
    },
    {
     "name": "stderr",
     "output_type": "stream",
     "text": [
      "100%|██████████| 503/503 [00:00<00:00, 629208.15it/s]\n"
     ]
    },
    {
     "name": "stdout",
     "output_type": "stream",
     "text": [
      "\n",
      "Screening Market Cap (B)...\n",
      "\n"
     ]
    },
    {
     "name": "stderr",
     "output_type": "stream",
     "text": [
      "100%|██████████| 503/503 [00:00<00:00, 463881.91it/s]\n"
     ]
    },
    {
     "name": "stdout",
     "output_type": "stream",
     "text": [
      "\n",
      "Screening Earnings Date...\n",
      "\n"
     ]
    },
    {
     "name": "stderr",
     "output_type": "stream",
     "text": [
      "100%|██████████| 503/503 [00:00<00:00, 446410.26it/s]"
     ]
    },
    {
     "name": "stderr",
     "output_type": "stream",
     "text": [
      "\n"
     ]
    }
   ],
   "source": [
    "from stockMarket.earning_dates import EarningDates\n",
    "\n",
    "earning_dates = EarningDates(stock_data.tickers)\n",
    "earning_dates.screen()\n",
    "earning_dates.write_email([\"benno94@virgilio.it\", \"97gamjak@gmail.com\"])"
   ]
  }
 ],
 "metadata": {
  "kernelspec": {
   "display_name": "Python 3",
   "language": "python",
   "name": "python3"
  },
  "language_info": {
   "codemirror_mode": {
    "name": "ipython",
    "version": 3
   },
   "file_extension": ".py",
   "mimetype": "text/x-python",
   "name": "python",
   "nbconvert_exporter": "python",
   "pygments_lexer": "ipython3",
   "version": "3.11.6"
  }
 },
 "nbformat": 4,
 "nbformat_minor": 2
}
