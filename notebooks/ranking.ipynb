{
 "cells": [
  {
   "cell_type": "code",
   "execution_count": 1,
   "metadata": {},
   "outputs": [],
   "source": [
    "%reload_ext autoreload\n",
    "%autoreload 2\n",
    "\n",
    "import os\n",
    "import sys\n",
    "module_path = os.path.abspath(os.path.join('..'))\n",
    "if module_path not in sys.path:\n",
    "    sys.path.append(module_path)"
   ]
  },
  {
   "cell_type": "markdown",
   "metadata": {},
   "source": [
    "### Retrieve Data"
   ]
  },
  {
   "cell_type": "code",
   "execution_count": 2,
   "metadata": {},
   "outputs": [],
   "source": [
    "from stockMarket.core import get_tickers_from_index\n",
    "\n",
    "tickers = get_tickers_from_index('sp500')"
   ]
  },
  {
   "cell_type": "code",
   "execution_count": 32,
   "metadata": {},
   "outputs": [
    {
     "name": "stderr",
     "output_type": "stream",
     "text": [
      "/home/jag/Trading/stockMarket/stockMarket/yfinance/_common.py:36: UserWarning: Not all tickers are in calendar and the selected update period indicates that the calendar is up to date. Therefore the calendar will not be updated and the missing tickers will be remain empty. To enforce an update the calendar set update to 'now'\n",
      "  warnings.warn(\n",
      "/home/jag/Trading/stockMarket/stockMarket/yfinance/_common.py:36: UserWarning: Not all tickers are in calendar and the selected update period indicates that the calendar is up to date. Therefore the calendar will not be updated and the missing tickers will be remain empty. To enforce an update the calendar set update to 'now'\n",
      "  warnings.warn(\n"
     ]
    }
   ],
   "source": [
    "from stockMarket.api import populate_contracts\n",
    "\n",
    "contracts = populate_contracts(tickers)\n",
    "# contracts = populate_contracts(tickers, update_period=\"now\")\n",
    "import numpy as np\n",
    "\n",
    "from stockMarket.core import Screener, LimitScreenerObject, EqualityScreenerObject\n",
    "from stockMarket.core import growth_total\n",
    "\n",
    "screener = Screener(contracts)\n",
    "\n",
    "bank_screener = EqualityScreenerObject('fin_statement_type', equal_to=\"BANK\", description=\"Bank\")\n",
    "not_bank_screener = EqualityScreenerObject('fin_statement_type', not_equal_to=\"BANK\", description=\"Bank\")\n",
    "\n",
    "dividend_yield_screener = LimitScreenerObject('dividend_yield', min_value=0.1, description=\"Dividend Yield\")\n",
    "payout_screener = LimitScreenerObject('payout_ratio', max_value=150, description=\"Payout Ratio\")\n",
    "price_screener = LimitScreenerObject('price', max_value=40, description=\"Price\")\n",
    "trailing_pe_screener = LimitScreenerObject('trailing_pe', min_value=0, max_value=30, description=\"Trailing PE\")\n",
    "forward_pe_screener = LimitScreenerObject('forward_pe', min_value=0, max_value=30, description=\"Forward PE\")\n",
    "revenue_screener = LimitScreenerObject('revenue', min_value=0, lambda_func= lambda x: growth_total(x)[0], description=\"Revenue Growth\")\n",
    "operating_cashflow_screener = LimitScreenerObject('operating_cashflow', min_value=0, description=\"Operating Cashflow\")\n",
    "equity_ratio_screener_not_bank = LimitScreenerObject('equity_ratio', min_value=30, description=\"Equity Ratio\", screener_object=not_bank_screener)\n",
    "equity_ratio_screener_bank = LimitScreenerObject('equity_ratio', min_value=8, description=\"Equity Ratio\", screener_object=bank_screener)\n",
    "ebitda_margin_screener = LimitScreenerObject('ebitda_margin', min_value=15, description=\"EBITDA Margin\")\n",
    "net_income_screener = LimitScreenerObject('net_income', min_value=0, lambda_func=np.mean, description=\"Min Net Income\")\n",
    "\n",
    "screener_list = [\n",
    "    # dividend_yield_screener,\n",
    "    # payout_screener,\n",
    "    # price_screener,\n",
    "    # trailing_pe_screener,\n",
    "    # forward_pe_screener,\n",
    "    # revenue_screener,\n",
    "    # operating_cashflow_screener,\n",
    "    # equity_ratio_screener_not_bank,\n",
    "    # equity_ratio_screener_bank,\n",
    "    # ebitda_margin_screener,\n",
    "    # net_income_screener\n",
    "]\n",
    "\n",
    "screened_contracts = screener.screen(screener_list)"
   ]
  },
  {
   "cell_type": "code",
   "execution_count": 44,
   "metadata": {},
   "outputs": [
    {
     "name": "stdout",
     "output_type": "stream",
     "text": [
      "29.032907452275943\n"
     ]
    }
   ],
   "source": [
    "from stockMarket.core import Contract\n",
    "from stockMarket.api import populate_contracts\n",
    "\n",
    "contract = Contract(ticker='GOOG')\n",
    "contracts = populate_contracts([contract])\n",
    "print((contracts[\"GOOG\"].earnings_per_share[0] - contracts[\"GOOG\"].earnings_per_share[3])/3*100/contracts[\"GOOG\"].earnings_per_share[3])\n",
    "\n"
   ]
  },
  {
   "cell_type": "markdown",
   "metadata": {},
   "source": [
    "### Perform Screening"
   ]
  },
  {
   "cell_type": "code",
   "execution_count": 46,
   "metadata": {},
   "outputs": [
    {
     "data": {
      "text/html": [
       "<div>\n",
       "<style scoped>\n",
       "    .dataframe tbody tr th:only-of-type {\n",
       "        vertical-align: middle;\n",
       "    }\n",
       "\n",
       "    .dataframe tbody tr th {\n",
       "        vertical-align: top;\n",
       "    }\n",
       "\n",
       "    .dataframe thead th {\n",
       "        text-align: right;\n",
       "    }\n",
       "</style>\n",
       "<table border=\"1\" class=\"dataframe\">\n",
       "  <thead>\n",
       "    <tr style=\"text-align: right;\">\n",
       "      <th></th>\n",
       "      <th>Name</th>\n",
       "      <th>Sector</th>\n",
       "      <th>Total Score</th>\n",
       "      <th>Equity Ratio</th>\n",
       "      <th>Equity Ratio Score</th>\n",
       "      <th>Netto Margin</th>\n",
       "      <th>Netto Margin Score</th>\n",
       "      <th>Return on Assets</th>\n",
       "      <th>Return on Assets Score</th>\n",
       "      <th>Goodwill</th>\n",
       "      <th>Goodwill Score</th>\n",
       "      <th>Gearing</th>\n",
       "      <th>Gearing Score</th>\n",
       "      <th>PEG Trailing 3Y</th>\n",
       "      <th>PEG Trailing 3Y Score</th>\n",
       "    </tr>\n",
       "  </thead>\n",
       "  <tbody>\n",
       "    <tr>\n",
       "    </tr>\n",
       "  </tbody>\n",
       "</table>\n",
       "<p>503 rows × 15 columns</p>\n",
       "</div>"
      ],
      "text/plain": [
     "execution_count": 46,
     "metadata": {},
     "output_type": "execute_result"
    }
   ],
   "source": [
    "import numpy as np\n",
    "import pandas as pd\n",
    "\n",
    "from stockMarket.core import Ranking, RankingObject\n",
    "\n",
    "def rank_equity_ratio(contract):\n",
    "    equity_ratio = contract.equity_ratio[0]\n",
    "    if equity_ratio > 30:\n",
    "        return (equity_ratio, 1)\n",
    "    if equity_ratio < 10:\n",
    "        return (equity_ratio, -1)\n",
    "    else:\n",
    "        return (equity_ratio, 0)\n",
    "\n",
    "def netto_margin(contract):\n",
    "    netto_margin = contract.netto_margin[0]\n",
    "    if 10 < netto_margin < 20:\n",
    "        return netto_margin, 1\n",
    "    if netto_margin > 20:\n",
    "        return netto_margin, 2\n",
    "    else:\n",
    "        return netto_margin, 0\n",
    "\n",
    "def return_on_assets(contract):\n",
    "    return_on_assets = contract.return_on_assets[0]\n",
    "    if 5 < return_on_assets < 10:\n",
    "        return return_on_assets, 1\n",
    "    if return_on_assets > 10:\n",
    "        return return_on_assets, 2\n",
    "    else:\n",
    "        return return_on_assets, 0\n",
    "\n",
    "def goodwill(contract):\n",
    "    goodwill = contract.goodwill_ratio[0]\n",
    "    \n",
    "    if goodwill > 30 or goodwill < 0:\n",
    "        return goodwill, -1\n",
    "    else:    \n",
    "        return goodwill, 0\n",
    "\n",
    "def gearing(contract):\n",
    "    gearing = contract.gearing[0]\n",
    "    if gearing > 60:\n",
    "        return gearing, -1\n",
    "    if 20 < gearing < 60:\n",
    "        return gearing, 0\n",
    "    else:\n",
    "        return gearing, 1\n",
    "    \n",
    "def peg_trailing_3y(contract):\n",
    "    trailing_pe = contract.trailing_pe\n",
    "    \n",
    "    if len(contract.earnings_per_share) < 4:\n",
    "        return np.nan, 0\n",
    "    \n",
    "    growth = contract.earnings_per_share[0] - contract.earnings_per_share[3]\n",
    "    peg = contract.peg_trailing_3y\n",
    "    \n",
    "    if trailing_pe < 0:\n",
    "        return peg, -1\n",
    "    elif growth < 0:\n",
    "        return peg, -1\n",
    "    elif peg < 0.8:\n",
    "        return peg, 1\n",
    "    elif 0.8 <= peg <= 1.2:\n",
    "        return peg, 0\n",
    "    else:\n",
    "        return peg, -1\n",
    "    \n",
    "\n",
    "equity_ratio_ranking = RankingObject(rank_equity_ratio, \"Equity Ratio\")\n",
    "netto_margin_ranking = RankingObject(netto_margin, \"Netto Margin\")\n",
    "return_on_assets_ranking = RankingObject(return_on_assets, \"Return on Assets\")\n",
    "goodwill_ranking = RankingObject(goodwill, \"Goodwill\")\n",
    "gearing_ranking = RankingObject(gearing, \"Gearing\")\n",
    "peg_trailing_3y_ranking = RankingObject(peg_trailing_3y, \"PEG Trailing 3Y\")\n",
    "ranking_list = [\n",
    "    equity_ratio_ranking,\n",
    "    netto_margin_ranking,\n",
    "    return_on_assets_ranking,\n",
    "    goodwill_ranking,\n",
    "    gearing_ranking,\n",
    "    peg_trailing_3y_ranking\n",
    "]\n",
    "\n",
    "ranking = Ranking(screened_contracts, ranking_list)\n",
    "ranking.rank()\n",
    "ranking.ranking.to_csv(\"ranking_contracts.csv\", sep='\\t', encoding='utf-8', float_format='%.2f')\n",
    "ranking.ranking"
   ]
  },
  {
   "cell_type": "markdown",
   "metadata": {},
   "source": [
    "### Write Email"
   ]
  },
  {
   "cell_type": "code",
   "execution_count": 47,
   "metadata": {},
   "outputs": [],
   "source": [
    "from stockMarket.utils import write_email\n",
    "\n",
    "emails = [\"benjaminlantschner@gmail.com\", \"97gamjak@gmail.com\"]\n",
    "subject = \"Stock Market Ranking\"\n",
    "body = \"\"\n",
    "attachment = \"ranking_contracts.csv\"\n",
    "write_email(emails, subject, body, attachment)"
   ]
  }
 ],
 "metadata": {
  "kernelspec": {
   "display_name": "Python 3",
   "language": "python",
   "name": "python3"
  },
  "language_info": {
   "codemirror_mode": {
    "name": "ipython",
    "version": 3
   },
   "file_extension": ".py",
   "mimetype": "text/x-python",
   "name": "python",
   "nbconvert_exporter": "python",
   "pygments_lexer": "ipython3",
   "version": "3.11.6"
  }
 },
 "nbformat": 4,
 "nbformat_minor": 2
}
