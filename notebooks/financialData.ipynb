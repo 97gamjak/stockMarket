{
 "cells": [
  {
   "cell_type": "code",
   "execution_count": 2,
   "metadata": {},
   "outputs": [],
   "source": [
    "%reload_ext autoreload\n",
    "%autoreload 2\n",
    "\n",
    "import os\n",
    "import sys\n",
    "module_path = os.path.abspath(os.path.join('..'))\n",
    "if module_path not in sys.path:\n",
    "    sys.path.append(module_path)"
   ]
  },
  {
   "cell_type": "markdown",
   "metadata": {},
   "source": [
    "### Retrieve Financial Data"
   ]
  },
  {
   "cell_type": "code",
   "execution_count": 7,
   "metadata": {},
   "outputs": [
    {
     "name": "stdout",
     "output_type": "stream",
     "text": [
      "AAL\n",
      "[  822.   127. -1993. -8885.  1686.  1412.]\n",
      "[52788. 48971. 29882. 17337. 45768. 44541.]\n",
      "[  1.55717208   0.25933716  -6.66956696 -51.2487743    3.68379654\n",
      "   3.17011293]\n",
      "[  -78.64282968   -70.54664597   -55.73569482   -59.57477792\n",
      " -3466.94915254 -2420.71005917]\n",
      "[-5202. -5799. -7340. -6867.  -118.  -169.]\n",
      "[4091. 4091. 4091. 4091. 4091. 4091.]\n",
      "\n",
      "AAPL\n",
      "[96995. 99803. 94680. 57411. 55256. 59531.]\n",
      "[383285. 394328. 365817. 274515. 260174. 265595.]\n",
      "[25.30623426 25.30964071 25.88179336 20.91361128 21.23809451 22.41420207]\n",
      "[0. 0. 0. 0. 0. 0.]\n",
      "[ 62146.  50672.  63090.  65339.  90488. 107147.]\n",
      "[nan nan nan nan nan nan]\n",
      "\n",
      "AEP\n",
      "[2307.2 2488.1 2200.1 1921.1 1923.8 1912.6]\n",
      "[19639.5 16792.  14918.5 15561.4 16195.7 15424.9]\n",
      "[11.74775325 14.81717485 14.74746121 12.34529027 11.87846157 12.39943209]\n",
      "[0.21930466 0.23357729 0.25490263 0.26683473 0.27533328 0.28690249]\n",
      "[23939.3 22476.5 20596.1 19675.1 19067.8 18298.9]\n",
      "[52.5 52.5 52.5 52.5 52.5 52.5]\n",
      "\n",
      "VLO\n",
      "[11528.   930. -1421.  2422.  3122.]\n",
      "[176383. 113977.  64912. 108324. 117033.]\n",
      "[ 6.53577726  0.8159541  -2.18911757  2.23588494  2.66762366]\n",
      "[1.10351853 1.41074335 1.38290516 1.19249645 0.        ]\n",
      "[23561. 18430. 18801. 21803. 21667.]\n",
      "[260. 260. 260. 260.  nan]\n",
      "\n",
      "BAC\n",
      "[26515. 27528. 31978. 17894. 27430. 28147.]\n",
      "[171912. 115053.  93851.  93753. 113589. 109627.]\n",
      "[15.42358881 23.92636437 34.07315852 19.08632257 24.14846508 25.67524424]\n",
      "[23.66601976 25.26455269 25.55745633 25.26380971 26.03791398 25.98737398]\n",
      "[291646. 273197. 270066. 272924. 264810. 265325.]\n",
      "[69021. 69022. 69022. 68951. 68951. 68951.]\n",
      "\n"
     ]
    }
   ],
   "source": [
    "from stockMarket.api import populate_contracts\n",
    "\n",
    "tickers = [\"AAL\", \"AAPL\", \"AEP\", \"VLO\", \"BAC\"]\n",
    "contracts = populate_contracts(tickers)\n",
    "for contract in contracts:\n",
    "    print(contract.ticker)\n",
    "    print(contract.income.net_income)\n",
    "    print(contract.income.revenue)\n",
    "    print(contract.netto_margin)\n",
    "    print(contract.goodwill_ratio)\n",
    "    print(contract.balance.equity)\n",
    "    print(contract.balance.goodwill)\n",
    "    print()"
   ]
  }
 ],
 "metadata": {
  "kernelspec": {
   "display_name": ".venv",
   "language": "python",
   "name": "python3"
  },
  "language_info": {
   "codemirror_mode": {
    "name": "ipython",
    "version": 3
   },
   "file_extension": ".py",
   "mimetype": "text/x-python",
   "name": "python",
   "nbconvert_exporter": "python",
   "pygments_lexer": "ipython3",
   "version": "3.11.6"
  }
 },
 "nbformat": 4,
 "nbformat_minor": 2
}
