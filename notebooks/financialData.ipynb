{
 "cells": [
  {
   "cell_type": "code",
   "execution_count": 8,
   "metadata": {},
   "outputs": [],
   "source": [
    "%reload_ext autoreload\n",
    "%autoreload 2\n",
    "\n",
    "import os\n",
    "import sys\n",
    "module_path = os.path.abspath(os.path.join('..'))\n",
    "if module_path not in sys.path:\n",
    "    sys.path.append(module_path)"
   ]
  },
  {
   "cell_type": "code",
   "execution_count": null,
   "metadata": {},
   "outputs": [],
   "source": [
    "from stockMarket.core.tickerGenerator import get_ticker_from_isin\n",
    "\n",
    "\n"
   ]
  },
  {
   "cell_type": "markdown",
   "metadata": {},
   "source": [
    "### Retrieve Financial Data"
   ]
  },
  {
   "cell_type": "code",
   "execution_count": 8,
   "metadata": {},
   "outputs": [
    {
     "name": "stdout",
     "output_type": "stream",
     "text": [
      "AAL\n",
      "[  822.   127. -1993. -8885.  1686.  1412.]\n",
      "[654.27319 650.64246 647.7276  621.47952 428.20251 460.61087]\n",
      "[  1.25635593   0.19519169  -3.07691073 -14.29652903   3.93738934\n",
      "   3.06549431]\n",
      "[12.37706582 79.66527758 -5.05377029 -1.08767659  3.94931734  5.07259138]\n",
      "\n",
      "AAPL\n",
      "[96995. 99803. 94680. 57411. 55256. 59531.]\n",
      "[15550.061 15943.425 16426.786 16976.763 17772.944 19019.944]\n",
      "[6.23759611 6.25982184 5.76375683 3.38174009 3.10899534 3.12992509]\n",
      "[31.14501109 31.03442957 33.70544694 57.44675668 62.48642375 62.06857807]\n",
      "\n",
      "AEP\n",
      "[2307.2 2488.1 2200.1 1921.1 1923.8 1912.6]\n",
      "[513.86608 504.21202 496.60419 494.16947 493.24588 492.0056 ]\n",
      "[4.48988577 4.93463048 4.43028884 3.88753275 3.900286   3.88735413]\n",
      "[17.39242467 15.82489315 17.62639025 20.08729057 20.02160868 20.08821359]\n",
      "\n",
      "VLO\n",
      "[11528.   930. -1421.  2422.  3122.]\n",
      "[372.12864 409.19564 408.40542 409.29185 417.59654]\n",
      "[30.97853473  2.27275149 -3.47938575  5.91753782  7.47611558]\n",
      "[  4.34042479  59.16176963 -38.64475213  22.72228825  17.98527571]\n",
      "\n",
      "BAC\n",
      "[26515. 27528. 31978. 17894. 27430. 28147.]\n",
      "[7895.45767 7996.77794 8077.83146 8650.81411 8836.14895 9669.28637]\n",
      "[3.35826004 3.44238645 3.95873573 2.06847584 3.10429353 2.91096974]\n",
      "[ 9.94562648  9.70257132  8.43703705 16.14715498 10.75929183 11.47383965]\n",
      "\n"
     ]
    }
   ],
   "source": [
    "from stockMarket.api import populate_contracts\n",
    "\n",
    "tickers = [\"AAL\", \"AAPL\", \"AEP\", \"VLO\", \"BAC\"]\n",
    "contracts = populate_contracts(tickers)\n",
    "for contract in contracts:\n",
    "    print(contract.ticker)\n",
    "    print(contract.net_income)\n",
    "    print(contract.balance.total_outstanding_shares_common_stock)\n",
    "    print(contract.earnings_per_share)\n",
    "    print(contract.price_to_earnings)\n",
    "    print()"
   ]
  },
  {
   "cell_type": "code",
   "execution_count": 5,
   "metadata": {},
   "outputs": [
    {
     "name": "stdout",
     "output_type": "stream",
     "text": [
      "ROP\n",
      "[15946.1   14094.5   14395.2   10815.4    9346.8    8820.313]\n",
      "[16037.8   11563.8   10479.8    9491.9    7738.5    6863.564]\n",
      "\n"
     ]
    }
   ],
   "source": [
    "from stockMarket.api import populate_contracts\n",
    "\n",
    "tickers = [\"ROP\"]\n",
    "contracts = populate_contracts(tickers)\n",
    "for contract in contracts:\n",
    "    print(contract.ticker)\n",
    "    print(contract.balance.goodwill)\n",
    "    print(contract.balance.equity)\n",
    "    print()"
   ]
  }
 ],
 "metadata": {
  "kernelspec": {
   "display_name": ".venv",
   "language": "python",
   "name": "python3"
  },
  "language_info": {
   "codemirror_mode": {
    "name": "ipython",
    "version": 3
   },
   "file_extension": ".py",
   "mimetype": "text/x-python",
   "name": "python",
   "nbconvert_exporter": "python",
   "pygments_lexer": "ipython3",
   "version": "3.11.6"
  }
 },
 "nbformat": 4,
 "nbformat_minor": 2
}
