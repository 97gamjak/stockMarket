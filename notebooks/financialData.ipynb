{
 "cells": [
  {
   "cell_type": "code",
   "execution_count": null,
   "metadata": {},
   "outputs": [],
   "source": [
    "%reload_ext autoreload\n",
    "%autoreload 2\n",
    "\n",
    "import os\n",
    "import sys\n",
    "module_path = os.path.abspath(os.path.join('..'))\n",
    "if module_path not in sys.path:\n",
    "    sys.path.append(module_path)"
   ]
  },
  {
   "cell_type": "markdown",
   "metadata": {},
   "source": [
    "### Setup Tickers"
   ]
  },
  {
   "cell_type": "code",
   "execution_count": null,
   "metadata": {},
   "outputs": [],
   "source": [
    "from stockMarket.stockData import StockData\n",
    "\n",
    "stock_data = StockData(\"S&P500\")"
   ]
  },
  {
   "cell_type": "markdown",
   "metadata": {},
   "source": [
    "### Retrieve Financial Data"
   ]
  },
  {
   "cell_type": "code",
   "execution_count": null,
   "metadata": {},
   "outputs": [
    {
     "name": "stdout",
     "output_type": "stream",
     "text": [
      "AAL [  1607.  -1059. -10421.   3065.   2656.   4231.]\n",
      "AAL [ 3905.  1276. -8051.  5383.  4815.  6248.]\n",
      "AAL [ 63.88126631  72.35969314 -62.11982171   2.75476527   4.50236967]\n",
      "AAL [  2.97921261  -7.4726667  -19.77460779   3.69058233   4.50236967]\n",
      "AAL [ -8.96068978 -11.04307401 -11.0743775   -0.19668306  -0.27896996\n",
      "  -1.47769253]\n",
      "AAPL [114301. 119437. 108949.  66288.  63930.  70898.]\n",
      "AAPL [125820. 130541. 120233.  77344.  76477.  81801.]\n",
      "AAPL [-2.80046053  7.7937876  33.25938473  5.51208038 -2.04107758]\n",
      "AAPL [ 8.86236563 12.11741561 12.57829904  1.67924848 -2.04107758]\n",
      "AAPL [17.62592071 14.36464402 17.97425656 20.17333152 26.73078968 29.2971495 ]\n",
      "AEP [3482.7 3411.3 2987.7 2592.3 2682.7 3525. ]\n",
      "AEP [6768.4 6322.3 5758.  5195.9 5083.1 5651.3]\n",
      "AEP [16.95747975 12.55823307 -4.13137635 -3.91647166  4.99711505]\n",
      "AEP [ 5.46467076  2.2157356  -1.09433449  0.4424664   4.99711505]\n",
      "AEP [25.63003663 25.63799851 25.50373217 25.92502797 27.7136977  28.2699744 ]\n",
      "VLO [15497.  2130. -1579.  3836.  4572.  3563.]\n",
      "VLO [17970.  4535.   772.  6091.  6641.  5549.]\n",
      "VLO [ 54.75315195  75.58694848 -40.07606809  -7.44149086  24.52968717]\n",
      "VLO [ 17.53628432   5.31948287 -10.30999503   7.63141094  24.52968717]\n",
      "VLO [38.63599095 31.83734107 36.3135937  40.47787019 43.20007975 43.84345468]\n"
     ]
    }
   ],
   "source": [
    "from stockMarket.ib.finReports import FinReports\n",
    "\n",
    "tickers = [\"AAL\", \"AAPL\", \"AEP\", \"VLO\"]\n",
    "fin_reports = FinReports(tickers)\n",
    "fin_reports.populate_contracts()\n",
    "for i, ticker in enumerate(tickers):\n",
    "    print(ticker, fin_reports.contracts[i].income.ebit)\n",
    "    print(ticker, fin_reports.contracts[i].ebitda)\n",
    "    print(ticker, fin_reports.contracts[i].income.revenue_growth)\n",
    "    print(ticker, fin_reports.contracts[i].income.revenue_growth_all_time)\n",
    "    print(ticker, fin_reports.contracts[i].balance.equity_ratio)\n"
   ]
  }
 ],
 "metadata": {
  "language_info": {
   "name": "python"
  }
 },
 "nbformat": 4,
 "nbformat_minor": 2
}
