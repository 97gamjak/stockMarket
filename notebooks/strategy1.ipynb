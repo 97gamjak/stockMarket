{
 "cells": [
  {
   "cell_type": "code",
   "execution_count": 1,
   "metadata": {},
   "outputs": [],
   "source": [
    "%reload_ext autoreload\n",
    "%autoreload 2\n",
    "\n",
    "import os\n",
    "import sys\n",
    "module_path = os.path.abspath(os.path.join('..'))\n",
    "if module_path not in sys.path:\n",
    "    sys.path.append(module_path)"
   ]
  },
  {
   "cell_type": "code",
   "execution_count": 27,
   "metadata": {},
   "outputs": [],
   "source": [
    "from stockMarket.core import get_tickers_from_index\n",
    "\n",
    "tickers = get_tickers_from_index('sp500')"
   ]
  },
  {
   "cell_type": "code",
   "execution_count": 25,
   "metadata": {},
   "outputs": [],
   "source": [
    "from stockMarket.technicals.trade.enums import TradeStatus\n",
    "from stockMarket.technicals.trade.tradeSettings import TradeSettings\n",
    "\n",
    "TradeStatus.write_description_to_file(\"/home/jag/rclone/drive/stockMarket/Trading/strategy_testing/trade_status_description.txt\")\n",
    "\n",
    "TradeSettings.write_description_to_file(\"/home/jag/rclone/drive/stockMarket/Trading/strategy_testing/trade_settings_description.txt\")"
   ]
  },
  {
   "cell_type": "code",
   "execution_count": 38,
   "metadata": {},
   "outputs": [
    {
     "name": "stderr",
     "output_type": "stream",
     "text": [
      "  0%|          | 0/503 [00:00<?, ?it/s]A: No price data found, symbol may be delisted (1wk 2021-04-05 -> 2024-03-19)\n",
      " 12%|█▏        | 58/503 [00:12<01:53,  3.92it/s]BF.B: No price data found, symbol may be delisted (1wk 2021-04-05 -> 2024-03-19)\n",
      " 14%|█▎        | 69/503 [00:15<02:09,  3.34it/s]BRK.B: No timezone found, symbol may be delisted\n",
      "100%|██████████| 503/503 [01:52<00:00,  4.46it/s]\n"
     ]
    },
    {
     "name": "stdout",
     "output_type": "stream",
     "text": [
      "Pushing stockMarket to drive\n",
      "Transferred:   \t          0 B / 0 B, -, 0 B/s, ETA -\n",
      "Checks:                 1 / 1, 100%\n",
      "Elapsed time:         5.3sTransferred:   \t          0 B / 0 B, -, 0 B/s, ETA -\n",
      "Checks:                18 / 18, 100%\n",
      "Elapsed time:         5.8sTransferred:   \t  125.738 KiB / 125.738 KiB, 100%, 0 B/s, ETA -\n",
      "Checks:                53 / 53, 100%\n",
      "Transferred:            0 / 1, 0%\n",
      "Elapsed time:         6.3s\n",
      "Transferring:\n",
      " * Trading/strategy_testi…A_FIB_4/screening.xlsx:100% /125.738Ki, 0/s, -Transferred:   \t  125.738 KiB / 125.738 KiB, 100%, 0 B/s, ETA -\n",
      "Checks:                53 / 53, 100%\n",
      "Transferred:            0 / 1, 0%\n",
      "Elapsed time:         6.8s\n",
      "Transferring:\n",
      " * Trading/strategy_testi…A_FIB_4/screening.xlsx:100% /125.738Ki, 0/s, -Transferred:   \t  125.738 KiB / 125.738 KiB, 100%, 125.618 KiB/s, ETA 0s\n",
      "Checks:                53 / 53, 100%\n",
      "Transferred:            0 / 1, 0%\n",
      "Elapsed time:         7.3s\n",
      "Transferring:\n",
      " * Trading/strategy_testi…A_FIB_4/screening.xlsx:100% /125.738Ki, 125.619Ki/s,Transferred:   \t  125.738 KiB / 125.738 KiB, 100%, 125.618 KiB/s, ETA 0s\n",
      "Checks:                53 / 53, 100%\n",
      "Transferred:            0 / 1, 0%\n",
      "Elapsed time:         7.8s\n",
      "Transferring:\n",
      " * Trading/strategy_testi…A_FIB_4/screening.xlsx:100% /125.738Ki, 125.619Ki/s,Transferred:   \t  125.738 KiB / 125.738 KiB, 100%, 125.618 KiB/s, ETA 0s\n",
      "Checks:                53 / 53, 100%\n",
      "Transferred:            1 / 1, 100%\n",
      "Elapsed time:         8.0s\n"
     ]
    }
   ],
   "source": [
    "from stockMarket.technicals.strategy import Strategy\n",
    "from stockMarket.technicals.trade.trade import TradeSettings\n",
    "from stockMarket.technicals.strategyObjects import EMAStrategy, FIBStrategy, RSIStrategy\n",
    "\n",
    "settings = TradeSettings(\n",
    "    loss_limit=None,\n",
    "    min_PL=0.5,\n",
    "    max_PL=None,\n",
    "    min_TP_B_TC_B_to_LOW_RATIO=None,\n",
    "    min_ratio_high_to_ref_candle=1.03,\n",
    "    max_drawdown_ratio_after_new_high=0.95,\n",
    ")\n",
    "\n",
    "strategy = Strategy(\n",
    "    # [FIBStrategy([0.3, 0.7])],\n",
    "    [EMAStrategy([8, 20, 50]), FIBStrategy([0.3, 0.7])],\n",
    "    # [EMAStrategy([8, 20, 50]), FIBStrategy([0.3, 0.7]), RSIStrategy(14, 60, 70)],\n",
    "    start_date=\"06.03.2023\",\n",
    "    end_date=\"05.03.2024\",\n",
    "    candle_period=\"weekly\",\n",
    "    base_path=\"/home/jag/rclone/drive/stockMarket/Trading/strategy_testing\",\n",
    "    storing_behavior=\"numerical\",\n",
    "    trade_settings=settings,\n",
    "    use_earnings_dates=False,\n",
    "    finalize_commands=[\"~/bin/rclone/sync_stockMarket.sh push\"],\n",
    ")\n",
    "\n",
    "strategy.screen(tickers)"
   ]
  }
 ],
 "metadata": {
  "kernelspec": {
   "display_name": ".venv",
   "language": "python",
   "name": "python3"
  },
  "language_info": {
   "codemirror_mode": {
    "name": "ipython",
    "version": 3
   },
   "file_extension": ".py",
   "mimetype": "text/x-python",
   "name": "python",
   "nbconvert_exporter": "python",
   "pygments_lexer": "ipython3",
   "version": "3.11.8"
  }
 },
 "nbformat": 4,
 "nbformat_minor": 2
}
