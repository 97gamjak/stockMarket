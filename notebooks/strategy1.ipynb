{
 "cells": [
  {
   "cell_type": "code",
   "execution_count": 1,
   "metadata": {},
   "outputs": [],
   "source": [
    "%reload_ext autoreload\n",
    "%autoreload 2\n",
    "\n",
    "import os\n",
    "import sys\n",
    "module_path = os.path.abspath(os.path.join('..'))\n",
    "if module_path not in sys.path:\n",
    "    sys.path.append(module_path)"
   ]
  },
  {
   "cell_type": "code",
   "execution_count": 2,
   "metadata": {},
   "outputs": [],
   "source": [
    "from stockMarket.core import get_tickers_from_index\n",
    "\n",
    "tickers = get_tickers_from_index('sp500')"
   ]
  },
  {
   "cell_type": "code",
   "execution_count": 10,
   "metadata": {},
   "outputs": [
    {
     "name": "stdout",
     "output_type": "stream",
     "text": [
      "/home/jag/rclone/drive/stockMarket/Trading/strategy_testing/EMA_FIB\n",
      "/home/jag/rclone/drive/stockMarket/Trading/strategy_testing/EMA_FIB\n"
     ]
    },
    {
     "name": "stderr",
     "output_type": "stream",
     "text": [
      " 43%|████▎     | 215/503 [01:57<02:29,  1.93it/s]ERROR:tvDatafeed.main:Connection to remote host was lost.\n",
      "ERROR:tvDatafeed.main:no data, please check the exchange and symbol\n",
      " 83%|████████▎ | 419/503 [03:45<00:50,  1.66it/s]ERROR:tvDatafeed.main:Connection to remote host was lost.\n",
      "ERROR:tvDatafeed.main:no data, please check the exchange and symbol\n",
      " 84%|████████▍ | 423/503 [03:47<00:39,  2.04it/s]ERROR:tvDatafeed.main:Connection to remote host was lost.\n",
      "ERROR:tvDatafeed.main:no data, please check the exchange and symbol\n",
      "100%|██████████| 503/503 [04:30<00:00,  1.86it/s]\n",
      "2024/03/14 21:21:22 NOTICE: bisync is IN BETA. Don't use in production!\n",
      "2024/03/14 21:21:22 NOTICE: BacktestingSpreadsheet.xlsx: Duplicate object found in source - ignoring\n",
      "2024/03/14 21:21:23 NOTICE: alphavantage/AAL_balance_annual.xlsx: Duplicate object found in source - ignoring\n",
      "2024/03/14 21:21:23 NOTICE: alphavantage/AAL_income_annual.xlsx: Duplicate object found in source - ignoring\n",
      "2024/03/14 21:21:23 NOTICE: alphavantage/AAPL_balance_annual.xlsx: Duplicate object found in source - ignoring\n",
      "2024/03/14 21:21:23 NOTICE: alphavantage/AAPL_cashflow_annual.xlsx: Duplicate object found in source - ignoring\n",
      "2024/03/14 21:21:23 NOTICE: alphavantage/AAPL_income_annual.xlsx: Duplicate object found in source - ignoring\n",
      "2024/03/14 21:21:23 NOTICE: alphavantage/GOOG_balance_annual.xlsx: Duplicate object found in source - ignoring\n",
      "2024/03/14 21:21:23 NOTICE: alphavantage/GOOG_cashflow_annual.xlsx: Duplicate object found in source - ignoring\n",
      "2024/03/14 21:21:23 NOTICE: alphavantage/GOOG_income_annual.xlsx: Duplicate object found in source - ignoring\n",
      "2024/03/14 21:21:25 NOTICE: BacktestingSpreadsheet.xlsx: Duplicate object found in destination - ignoring\n",
      "2024/03/14 21:21:25 NOTICE: alphavantage/AAL_balance_annual.xlsx: Duplicate object found in destination - ignoring\n",
      "2024/03/14 21:21:25 NOTICE: alphavantage/AAL_income_annual.xlsx: Duplicate object found in destination - ignoring\n",
      "2024/03/14 21:21:25 NOTICE: alphavantage/AAPL_balance_annual.xlsx: Duplicate object found in destination - ignoring\n",
      "2024/03/14 21:21:25 NOTICE: alphavantage/AAPL_cashflow_annual.xlsx: Duplicate object found in destination - ignoring\n",
      "2024/03/14 21:21:25 NOTICE: alphavantage/AAPL_income_annual.xlsx: Duplicate object found in destination - ignoring\n",
      "2024/03/14 21:21:25 NOTICE: alphavantage/GOOG_balance_annual.xlsx: Duplicate object found in destination - ignoring\n",
      "2024/03/14 21:21:25 NOTICE: alphavantage/GOOG_cashflow_annual.xlsx: Duplicate object found in destination - ignoring\n",
      "2024/03/14 21:21:25 NOTICE: alphavantage/GOOG_income_annual.xlsx: Duplicate object found in destination - ignoring\n"
     ]
    },
    {
     "data": {
      "text/plain": [
       "0"
      ]
     },
     "execution_count": 10,
     "metadata": {},
     "output_type": "execute_result"
    }
   ],
   "source": [
    "import os\n",
    "from stockMarket.technicals.strategy import Strategy\n",
    "from stockMarket.technicals.strategyObjects import EMAStrategy, FIBStrategy\n",
    "\n",
    "strategy = Strategy(\n",
    "    [EMAStrategy([8, 20, 50]), FIBStrategy([0.3, 0.7])],\n",
    "    start_date=\"06.03.2023\",\n",
    "    end_date=\"05.03.2024\",\n",
    "    candle_period=\"weekly\",\n",
    "    base_path=\"/home/jag/rclone/drive/stockMarket/Trading/strategy_testing\",\n",
    "    storing_behavior=\"abort\",\n",
    ")\n",
    "\n",
    "strategy.screen(tickers)\n",
    "\n",
    "os.system(\"/home/jag/software/rclone/rclone bisync /home/jag/rclone/drive/stockMarket drive:stockMarket --resync\")"
   ]
  }
 ],
 "metadata": {
  "kernelspec": {
   "display_name": ".venv",
   "language": "python",
   "name": "python3"
  },
  "language_info": {
   "codemirror_mode": {
    "name": "ipython",
    "version": 3
   },
   "file_extension": ".py",
   "mimetype": "text/x-python",
   "name": "python",
   "nbconvert_exporter": "python",
   "pygments_lexer": "ipython3",
   "version": "3.12.1"
  }
 },
 "nbformat": 4,
 "nbformat_minor": 2
}
