{
 "cells": [
  {
   "cell_type": "code",
   "execution_count": 2,
   "metadata": {},
   "outputs": [],
   "source": [
    "%reload_ext autoreload\n",
    "%autoreload 2\n",
    "\n",
    "import os\n",
    "import sys\n",
    "module_path = os.path.abspath(os.path.join('..'))\n",
    "if module_path not in sys.path:\n",
    "    sys.path.append(module_path)"
   ]
  },
  {
   "cell_type": "code",
   "execution_count": 3,
   "metadata": {},
   "outputs": [],
   "source": [
    "from stockMarket.core import get_tickers_from_index\n",
    "\n",
    "tickers = get_tickers_from_index('sp500')"
   ]
  },
  {
   "cell_type": "code",
   "execution_count": 5,
   "metadata": {},
   "outputs": [
    {
     "name": "stderr",
     "output_type": "stream",
     "text": [
      "0it [00:00, ?it/s]\n",
      "2024/03/14 15:55:56 NOTICE: bisync is EXPERIMENTAL. Don't use in production!\n"
     ]
    },
    {
     "name": "stdout",
     "output_type": "stream",
     "text": [
      "Transferred:   \t          0 B / 0 B, -, 0 B/s, ETA -\n",
      "Elapsed time:         1.2sTransferred:   \t          0 B / 0 B, -, 0 B/s, ETA -\n",
      "Elapsed time:         1.7sTransferred:   \t          0 B / 0 B, -, 0 B/s, ETA -\n",
      "Elapsed time:         2.2sTransferred:   \t          0 B / 0 B, -, 0 B/s, ETA -\n",
      "Elapsed time:         2.7sTransferred:   \t          0 B / 0 B, -, 0 B/s, ETA -\n",
      "Elapsed time:         3.2sTransferred:   \t          0 B / 0 B, -, 0 B/s, ETA -\n",
      "Elapsed time:         3.7sTransferred:   \t        219 B / 219 B, 100%, 0 B/s, ETA -\n",
      "Transferred:            0 / 1, 0%\n",
      "Elapsed time:         4.2s\n",
      "Transferring:\n",
      " *  Trading/strategy_testing/sync_stockMarket.sh:100% /219, 0/s, -Transferred:   \t        219 B / 219 B, 100%, 0 B/s, ETA -\n",
      "Transferred:            0 / 1, 0%\n",
      "Elapsed time:         4.7s\n",
      "Transferring:\n",
      " *  Trading/strategy_testing/sync_stockMarket.sh:100% /219, 0/s, -Transferred:   \t        219 B / 219 B, 100%, 218 B/s, ETA 0s\n",
      "Transferred:            0 / 1, 0%\n",
      "Elapsed time:         5.2s\n",
      "Transferring:\n",
      " *  Trading/strategy_testing/sync_stockMarket.sh:100% /219, 218/s, 0sTransferred:   \t        219 B / 219 B, 100%, 218 B/s, ETA 0s\n",
      "Transferred:            1 / 1, 100%\n",
      "Elapsed time:         5.7sTransferred:   \t        219 B / 219 B, 100%, 109 B/s, ETA 0s\n",
      "Transferred:            1 / 1, 100%\n",
      "Elapsed time:         6.2sTransferred:   \t        219 B / 219 B, 100%, 109 B/s, ETA 0s\n",
      "Checks:                 9 / 9, 100%\n",
      "Transferred:            1 / 1, 100%\n",
      "Elapsed time:         6.7sTransferred:   \t        219 B / 219 B, 100%, 72 B/s, ETA 0s\n",
      "Checks:                11 / 11, 100%\n",
      "Transferred:            1 / 1, 100%\n",
      "Elapsed time:         7.2sTransferred:   \t        219 B / 219 B, 100%, 72 B/s, ETA 0s\n",
      "Checks:                11 / 11, 100%\n",
      "Transferred:            1 / 1, 100%\n",
      "Elapsed time:         7.7sTransferred:   \t        219 B / 219 B, 100%, 54 B/s, ETA 0s\n",
      "Checks:                20 / 20, 100%\n",
      "Transferred:            1 / 1, 100%\n",
      "Elapsed time:         8.2sTransferred:   \t        219 B / 219 B, 100%, 54 B/s, ETA 0s\n",
      "Checks:                22 / 22, 100%\n",
      "Transferred:            1 / 1, 100%\n",
      "Elapsed time:         8.7sTransferred:   \t        219 B / 219 B, 100%, 43 B/s, ETA 0s\n",
      "Checks:                22 / 22, 100%\n",
      "Transferred:            1 / 1, 100%\n",
      "Elapsed time:         9.2sTransferred:   \t        219 B / 219 B, 100%, 43 B/s, ETA 0s\n",
      "Checks:                22 / 22, 100%\n",
      "Transferred:            1 / 1, 100%\n",
      "Elapsed time:         9.7sTransferred:   \t        219 B / 219 B, 100%, 36 B/s, ETA 0s\n",
      "Checks:                22 / 22, 100%\n",
      "Transferred:            1 / 1, 100%\n",
      "Elapsed time:        10.2sTransferred:   \t        219 B / 219 B, 100%, 36 B/s, ETA 0s\n",
      "Checks:                22 / 22, 100%\n",
      "Transferred:            1 / 1, 100%\n",
      "Elapsed time:        10.7sTransferred:   \t        219 B / 219 B, 100%, 31 B/s, ETA 0s\n",
      "Checks:                22 / 22, 100%\n",
      "Transferred:            1 / 1, 100%\n",
      "Elapsed time:        11.2sTransferred:   \t        219 B / 219 B, 100%, 31 B/s, ETA 0s\n",
      "Checks:                22 / 22, 100%\n",
      "Transferred:            1 / 1, 100%\n",
      "Elapsed time:        11.7sTransferred:   \t        219 B / 219 B, 100%, 27 B/s, ETA 0s\n",
      "Checks:                22 / 22, 100%\n",
      "Transferred:            1 / 1, 100%\n",
      "Elapsed time:        12.2sTransferred:   \t        219 B / 219 B, 100%, 27 B/s, ETA 0s\n",
      "Checks:                22 / 22, 100%\n",
      "Transferred:            1 / 1, 100%\n",
      "Elapsed time:        12.7sTransferred:   \t        219 B / 219 B, 100%, 24 B/s, ETA 0s\n",
      "Checks:                22 / 22, 100%\n",
      "Transferred:            1 / 1, 100%\n",
      "Elapsed time:        13.0s\n"
     ]
    },
    {
     "data": {
      "text/plain": [
       "0"
      ]
     },
     "execution_count": 5,
     "metadata": {},
     "output_type": "execute_result"
    }
   ],
   "source": [
    "import os\n",
    "from stockMarket.technicals.strategy import Strategy\n",
    "from stockMarket.technicals.strategyObjects import EMAStrategy, FIBStrategy\n",
    "\n",
    "strategy = Strategy(\n",
    "    [EMAStrategy([8, 20, 50]), FIBStrategy([0.3, 0.7])],\n",
    "    start_date=\"06.03.2023\",\n",
    "    end_date=\"05.03.2024\",\n",
    "    candle_period=\"weekly\",\n",
    "    base_path=\"/home/jag/rclone/drive/stockMarket/Trading/strategy_testing\",\n",
    "    storing_behavior=\"overwrite\",\n",
    ")\n",
    "\n",
    "strategy.screen([])\n",
    "\n",
    "os.system(\"/home/jag/rclone/drive/stockMarket/Trading/strategy_testing/sync_stockMarket.sh\")"
   ]
  }
 ],
 "metadata": {
  "kernelspec": {
   "display_name": ".venv",
   "language": "python",
   "name": "python3"
  },
  "language_info": {
   "codemirror_mode": {
    "name": "ipython",
    "version": 3
   },
   "file_extension": ".py",
   "mimetype": "text/x-python",
   "name": "python",
   "nbconvert_exporter": "python",
   "pygments_lexer": "ipython3",
   "version": "3.11.6"
  }
 },
 "nbformat": 4,
 "nbformat_minor": 2
}
