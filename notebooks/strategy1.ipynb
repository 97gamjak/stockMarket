{
 "cells": [
  {
   "cell_type": "code",
   "execution_count": 1,
   "metadata": {},
   "outputs": [],
   "source": [
    "%reload_ext autoreload\n",
    "%autoreload 2\n",
    "\n",
    "import os\n",
    "import sys\n",
    "module_path = os.path.abspath(os.path.join('..'))\n",
    "if module_path not in sys.path:\n",
    "    sys.path.append(module_path)"
   ]
  },
  {
   "cell_type": "code",
   "execution_count": 2,
   "metadata": {},
   "outputs": [],
   "source": [
    "from stockMarket.core import get_tickers_from_index\n",
    "\n",
    "tickers = get_tickers_from_index('sp500')"
   ]
  },
  {
   "cell_type": "code",
   "execution_count": 3,
   "metadata": {},
   "outputs": [
    {
     "ename": "SyntaxError",
     "evalue": "invalid syntax (trade.py, line 298)",
     "output_type": "error",
     "traceback": [
      "Traceback \u001b[0;36m(most recent call last)\u001b[0m:\n",
      "\u001b[0m  File \u001b[1;32m~/Trading/stockMarket/.venv/lib/python3.11/site-packages/IPython/core/interactiveshell.py:3553\u001b[0m in \u001b[1;35mrun_code\u001b[0m\n    exec(code_obj, self.user_global_ns, self.user_ns)\u001b[0m\n",
      "\u001b[0m  Cell \u001b[1;32mIn[3], line 1\u001b[0m\n    from stockMarket.technicals.strategy import Strategy\u001b[0m\n",
      "\u001b[0;36m  File \u001b[0;32m~/Trading/stockMarket/stockMarket/technicals/strategy.py:17\u001b[0;36m\n\u001b[0;31m    from .trade.trade import Trade, TradeSettings\u001b[0;36m\n",
      "\u001b[0;36m  File \u001b[0;32m~/Trading/stockMarket/stockMarket/technicals/trade/trade.py:298\u001b[0;36m\u001b[0m\n\u001b[0;31m    self.trade_status =\u001b[0m\n\u001b[0m                        ^\u001b[0m\n\u001b[0;31mSyntaxError\u001b[0m\u001b[0;31m:\u001b[0m invalid syntax\n"
     ]
    }
   ],
   "source": [
    "from stockMarket.technicals.strategy import Strategy\n",
    "from stockMarket.technicals.trade.trade import TradeSettings\n",
    "from stockMarket.technicals.strategyObjects import EMAStrategy, FIBStrategy, RSIStrategy\n",
    "\n",
    "settings = TradeSettings(\n",
    "    loss_limit=None,\n",
    "    min_PL=None,\n",
    "    max_PL=None,\n",
    "    min_TP_B_TC_B_to_LOW_RATIO=2,\n",
    ")\n",
    "\n",
    "strategy = Strategy(\n",
    "    [FIBStrategy([0.3, 0.7])],\n",
    "    # [EMAStrategy([8, 20, 50]), FIBStrategy([0.3, 0.7])],\n",
    "    # [EMAStrategy([8, 20, 50]), FIBStrategy([0.3, 0.7]), RSIStrategy(14, 60, 70)],\n",
    "    start_date=\"06.03.2023\",\n",
    "    end_date=\"05.03.2024\",\n",
    "    candle_period=\"weekly\",\n",
    "    base_path=\"/home/jag/rclone/drive/stockMarket/Trading/strategy_testing\",\n",
    "    storing_behavior=\"numerical\",\n",
    "    trade_settings=settings,\n",
    "    use_earnings_dates=False,\n",
    "    finalize_commands=[\"~/bin/rclone/sync_stockMarket.sh push\"],\n",
    ")\n",
    "\n",
    "strategy.screen(tickers)"
   ]
  }
 ],
 "metadata": {
  "kernelspec": {
   "display_name": ".venv",
   "language": "python",
   "name": "python3"
  },
  "language_info": {
   "codemirror_mode": {
    "name": "ipython",
    "version": 3
   },
   "file_extension": ".py",
   "mimetype": "text/x-python",
   "name": "python",
   "nbconvert_exporter": "python",
   "pygments_lexer": "ipython3",
   "version": "3.11.8"
  }
 },
 "nbformat": 4,
 "nbformat_minor": 2
}
