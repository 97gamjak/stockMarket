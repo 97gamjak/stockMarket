{
 "cells": [
  {
   "cell_type": "markdown",
   "metadata": {},
   "source": [
    "## Retrieve Data"
   ]
  },
  {
   "cell_type": "code",
   "execution_count": 27,
   "metadata": {},
   "outputs": [
    {
     "name": "stdout",
     "output_type": "stream",
     "text": [
      "\n",
      "Downloading tickers...\n",
      "\n"
     ]
    },
    {
     "name": "stderr",
     "output_type": "stream",
     "text": [
      "100%|██████████| 503/503 [00:00<00:00, 79378.99it/s]\n"
     ]
    },
    {
     "name": "stdout",
     "output_type": "stream",
     "text": [
      "Retrieve info data from Yahoo Finance...\n"
     ]
    },
    {
     "name": "stderr",
     "output_type": "stream",
     "text": [
      "100%|██████████| 503/503 [01:13<00:00,  6.84it/s]\n"
     ]
    },
    {
     "name": "stdout",
     "output_type": "stream",
     "text": [
      "Retrieve cashflow data from Yahoo Finance...\n"
     ]
    },
    {
     "name": "stderr",
     "output_type": "stream",
     "text": [
      "100%|██████████| 503/503 [01:21<00:00,  6.15it/s]\n"
     ]
    },
    {
     "name": "stdout",
     "output_type": "stream",
     "text": [
      "Retrieve financials data from Yahoo Finance...\n"
     ]
    },
    {
     "name": "stderr",
     "output_type": "stream",
     "text": [
      "100%|██████████| 503/503 [01:13<00:00,  6.86it/s]\n"
     ]
    },
    {
     "name": "stdout",
     "output_type": "stream",
     "text": [
      "Retrieve balancesheet data from Yahoo Finance...\n"
     ]
    },
    {
     "name": "stderr",
     "output_type": "stream",
     "text": [
      "100%|██████████| 503/503 [01:24<00:00,  5.98it/s]\n"
     ]
    }
   ],
   "source": [
    "from stockMarket.stockData import StockData\n",
    "\n",
    "stock_data = StockData(\"S&P 500\")\n",
    "stock_data.init_data()"
   ]
  },
  {
   "cell_type": "markdown",
   "metadata": {},
   "source": [
    "## Screening Data"
   ]
  },
  {
   "cell_type": "code",
   "execution_count": 31,
   "metadata": {},
   "outputs": [
    {
     "name": "stderr",
     "output_type": "stream",
     "text": [
      "  0%|          | 0/12 [00:00<?, ?it/s]"
     ]
    },
    {
     "name": "stdout",
     "output_type": "stream",
     "text": [
      "\n",
      "Screening Long Name...\n",
      "\n"
     ]
    },
    {
     "name": "stderr",
     "output_type": "stream",
     "text": [
      "100%|██████████| 503/503 [00:00<00:00, 688106.62it/s]\n"
     ]
    },
    {
     "name": "stdout",
     "output_type": "stream",
     "text": [
      "\n",
      "Screening Sector...\n",
      "\n"
     ]
    },
    {
     "name": "stderr",
     "output_type": "stream",
     "text": [
      "100%|██████████| 503/503 [00:00<00:00, 804014.83it/s]\n"
     ]
    },
    {
     "name": "stdout",
     "output_type": "stream",
     "text": [
      "\n",
      "Screening Dividend Yield %...\n",
      "\n"
     ]
    },
    {
     "name": "stderr",
     "output_type": "stream",
     "text": [
      "100%|██████████| 503/503 [00:00<00:00, 843893.96it/s]\n"
     ]
    },
    {
     "name": "stdout",
     "output_type": "stream",
     "text": [
      "\n",
      "Screening Price...\n",
      "\n"
     ]
    },
    {
     "name": "stderr",
     "output_type": "stream",
     "text": [
      "100%|██████████| 503/503 [00:00<00:00, 988166.24it/s]\n"
     ]
    },
    {
     "name": "stdout",
     "output_type": "stream",
     "text": [
      "\n",
      "Screening Trailing PE...\n",
      "\n"
     ]
    },
    {
     "name": "stderr",
     "output_type": "stream",
     "text": [
      "100%|██████████| 503/503 [00:00<00:00, 176413.99it/s]\n"
     ]
    },
    {
     "name": "stdout",
     "output_type": "stream",
     "text": [
      "\n",
      "Screening Forward PE...\n",
      "\n"
     ]
    },
    {
     "name": "stderr",
     "output_type": "stream",
     "text": [
      "100%|██████████| 503/503 [00:00<00:00, 749728.11it/s]\n"
     ]
    },
    {
     "name": "stdout",
     "output_type": "stream",
     "text": [
      "\n",
      "Screening Revenue Growth %...\n",
      "\n"
     ]
    },
    {
     "name": "stderr",
     "output_type": "stream",
     "text": [
      "100%|██████████| 503/503 [00:00<00:00, 1900662.08it/s]\n",
      " 58%|█████▊    | 7/12 [00:00<00:00, 13.53it/s]"
     ]
    },
    {
     "name": "stdout",
     "output_type": "stream",
     "text": [
      "\n",
      "Screening Operating Cash Flow (B)...\n",
      "\n"
     ]
    },
    {
     "name": "stderr",
     "output_type": "stream",
     "text": [
      "100%|██████████| 503/503 [00:00<00:00, 796126.38it/s]\n"
     ]
    },
    {
     "name": "stdout",
     "output_type": "stream",
     "text": [
      "\n",
      "Screening Market Cap (B)...\n",
      "\n"
     ]
    },
    {
     "name": "stderr",
     "output_type": "stream",
     "text": [
      "100%|██████████| 503/503 [00:00<00:00, 570507.01it/s]\n"
     ]
    },
    {
     "name": "stdout",
     "output_type": "stream",
     "text": [
      "\n",
      "Screening Gross Margin %...\n",
      "\n"
     ]
    },
    {
     "name": "stderr",
     "output_type": "stream",
     "text": [
      "100%|██████████| 503/503 [00:00<00:00, 205466.98it/s]\n"
     ]
    },
    {
     "name": "stdout",
     "output_type": "stream",
     "text": [
      "\n",
      "Screening EBITDA Margin %...\n",
      "\n"
     ]
    },
    {
     "name": "stderr",
     "output_type": "stream",
     "text": [
      "100%|██████████| 503/503 [00:00<00:00, 456949.30it/s]\n"
     ]
    },
    {
     "name": "stdout",
     "output_type": "stream",
     "text": [
      "\n",
      "Screening Equity Ratio %...\n",
      "\n"
     ]
    },
    {
     "name": "stderr",
     "output_type": "stream",
     "text": [
      "100%|██████████| 503/503 [00:00<00:00, 1264829.08it/s]\n",
      "100%|██████████| 12/12 [00:01<00:00, 11.72it/s]\n"
     ]
    },
    {
     "name": "stdout",
     "output_type": "stream",
     "text": [
      "\n",
      "Removing companies that do not meet the screening criteria...\n",
      "\n"
     ]
    },
    {
     "name": "stderr",
     "output_type": "stream",
     "text": [
      "100%|██████████| 503/503 [00:00<00:00, 272681.26it/s]"
     ]
    },
    {
     "name": "stdout",
     "output_type": "stream",
     "text": [
      "\n",
      "A total of 29 out of 503 companies were selected.\n",
      "For a total of 41 companies, data was missing.\n",
      "\n",
      "A short summary of the reasons for discarding companies is given below:\n",
      "\n",
      "dividendYield_lower_limit     103 with limits [0.1None]\n",
      "dividendYield_upper_limit     0 with limits [0.1None]\n",
      "price_lower_limit     0 with limits [None40]\n",
      "price_upper_limit     431 with limits [None40]\n",
      "trailingPE_lower_limit     0 with limits [020]\n",
      "trailingPE_upper_limit     290 with limits [020]\n",
      "revenueGrowth_lower_limit     24 with limits [0None]\n",
      "revenueGrowth_upper_limit     0 with limits [0None]\n",
      "operatingCashflow_lower_limit     12 with limits [0None]\n",
      "operatingCashflow_upper_limit     0 with limits [0None]\n",
      "equityRatio_lower_limit     89 with limits [30None]\n",
      "equityRatio_upper_limit     0 with limits [30None]\n",
      "ebitdaMargin_lower_limit     108 with limits [15None]\n",
      "ebitdaMargin_upper_limit     0 with limits [15None]\n",
      "\n",
      "        \n",
      "The selected companies are:\n",
      "            \n",
      "\n",
      "                                     Long Name                  Sector  \\\n",
      "MOS                         The Mosaic Company         Basic Materials   \n",
      "VZ                 Verizon Communications Inc.  Communication Services   \n",
      "FOXA                           Fox Corporation  Communication Services   \n",
      "FOX                            Fox Corporation  Communication Services   \n",
      "IPG   The Interpublic Group of Companies, Inc.  Communication Services   \n",
      "TPR                             Tapestry, Inc.       Consumer Cyclical   \n",
      "KHC                    The Kraft Heinz Company      Consumer Defensive   \n",
      "CAG                       Conagra Brands, Inc.      Consumer Defensive   \n",
      "EQT                            EQT Corporation                  Energy   \n",
      "CTRA                       Coterra Energy Inc.                  Energy   \n",
      "MRO                   Marathon Oil Corporation                  Energy   \n",
      "WMB               The Williams Companies, Inc.                  Energy   \n",
      "KMI                        Kinder Morgan, Inc.                  Energy   \n",
      "HAL                        Halliburton Company                  Energy   \n",
      "BAC                Bank of America Corporation      Financial Services   \n",
      "CFG             Citizens Financial Group, Inc.      Financial Services   \n",
      "FITB                       Fifth Third Bancorp      Financial Services   \n",
      "HBAN        Huntington Bancshares Incorporated      Financial Services   \n",
      "KEY                                    KeyCorp      Financial Services   \n",
      "RF               Regions Financial Corporation      Financial Services   \n",
      "SYF                        Synchrony Financial      Financial Services   \n",
      "TFC               Truist Financial Corporation      Financial Services   \n",
      "PFE                                Pfizer Inc.              Healthcare   \n",
      "VTRS                              Viatris Inc.              Healthcare   \n",
      "CSX                            CSX Corporation             Industrials   \n",
      "VICI                      VICI Properties Inc.             Real Estate   \n",
      "HST                Host Hotels & Resorts, Inc.             Real Estate   \n",
      "HPE         Hewlett Packard Enterprise Company              Technology   \n",
      "NI                               NiSource Inc.               Utilities   \n",
      "\n",
      "      Dividend Yield %   Price  Trailing PE  Forward PE  Revenue Growth %  \\\n",
      "MOS               2.56  33.670     8.298734    9.669616        120.293261   \n",
      "VZ                6.90  38.190     7.758552    8.400871          6.659028   \n",
      "FOXA              1.67  30.950    15.190244    8.194736         15.524053   \n",
      "FOX               1.81  28.760    14.024390   12.234043         15.524053   \n",
      "IPG               3.88  32.670    13.376568   10.948629         20.602582   \n",
      "TPR               3.85  37.790     9.246820    8.166292         15.916329   \n",
      "KHC               4.25  37.740    15.570248   12.435644          1.145694   \n",
      "CAG               4.84  28.890    14.121952   10.762082          9.766020   \n",
      "EQT               1.67  37.960     5.180822   12.734007        356.649687   \n",
      "CTRA              3.13  25.640     8.847751   10.436734        517.394270   \n",
      "MRO               1.88  23.400     8.509090    7.244582        143.461414   \n",
      "WMB               5.13  35.250    15.315789   18.673796         42.052079   \n",
      "KMI               6.29  18.050    16.486237   14.729507         64.102564   \n",
      "HAL               1.86  34.810    11.848797   10.023255         40.512288   \n",
      "BAC               2.93  32.250    10.649351   10.154799         11.016275   \n",
      "CFG               5.31  32.760     7.831683    9.558912         16.611151   \n",
      "FITB              3.96  34.750     9.789174   10.805032         11.386543   \n",
      "HBAN              4.95  12.740     8.291391   10.262295         50.654206   \n",
      "KEY               5.77  14.450    11.544715   11.093750          8.258860   \n",
      "RF                5.25  18.640     7.585062    9.326530         14.900398   \n",
      "SYF               2.61  38.190     6.764273    6.714808          4.586992   \n",
      "TFC               5.66  37.435     9.231156   10.742690          1.453424   \n",
      "PFE               5.85  28.460    15.683060   12.927928        140.882572   \n",
      "VTRS              4.11  12.110     7.735100    4.171429         36.135108   \n",
      "CSX               1.26  34.720    18.444445   17.606060         40.347727   \n",
      "VICI              5.34  31.450    12.904564   11.780303        112.202364   \n",
      "HST               3.29  19.900    18.809525   21.467390        202.901235   \n",
      "HPE               3.27  16.420    10.318182    7.530806          4.862511   \n",
      "NI                3.74  26.670    17.826666   15.637426         24.967426   \n",
      "\n",
      "      Operating Cash Flow (B)  Market Cap (B)  Gross Margin %  \\\n",
      "MOS                  2.824800       10.713651       17.573000   \n",
      "VZ                  37.739999      162.110112       58.691000   \n",
      "FOXA                 1.531000       14.471599       33.715000   \n",
      "FOX                  1.531000       14.471600       33.715000   \n",
      "IPG                  0.927500       12.244638       21.819000   \n",
      "TPR                  1.220900        8.328620       71.360000   \n",
      "KHC                  3.572000       46.216028       33.243000   \n",
      "CAG                  1.552200       13.838245       27.111998   \n",
      "EQT                  3.618266       15.556576       63.495000   \n",
      "CTRA                 4.382000       19.233548       75.601995   \n",
      "MRO                  4.134000       13.694779       77.796996   \n",
      "WMB                  5.344000       42.480177       58.919000   \n",
      "KMI                  5.573000       39.943172       47.660000   \n",
      "HAL                  3.211000       30.861394       18.350000   \n",
      "BAC                 43.256001      259.120005             NaN   \n",
      "CFG                  3.732000       14.751295             NaN   \n",
      "FITB                 4.510000       23.399746             NaN   \n",
      "HBAN                 3.116000       18.129963             NaN   \n",
      "KEY                  3.451000       13.294891             NaN   \n",
      "RF                   2.729000       17.001590             NaN   \n",
      "SYF                  8.123000       15.199021             NaN   \n",
      "TFC                  9.789000       48.999039             NaN   \n",
      "PFE                 12.042000      162.051981       68.995005   \n",
      "VTRS                 2.462800       14.480047       42.926000   \n",
      "CSX                  5.413000       68.887896       49.453000   \n",
      "VICI                 2.092436       32.173883       99.084000   \n",
      "HST                  1.494000       14.208821       29.954000   \n",
      "HPE                  4.428000       20.657000       35.143003   \n",
      "NI                   1.909100       11.054717       42.218000   \n",
      "\n",
      "      EBITDA Margin %  Equity Ratio %  \n",
      "MOS         18.591000       75.993847  \n",
      "VZ          35.789000       34.075708  \n",
      "FOXA        19.660999       55.840732  \n",
      "FOX         19.660999       55.840732  \n",
      "IPG         18.114000       44.598081  \n",
      "TPR         20.601000       40.895544  \n",
      "KHC         23.884001       70.806423  \n",
      "CAG         18.663000       48.104569  \n",
      "EQT         92.714995       66.160645  \n",
      "CTRA        70.457000       82.966313  \n",
      "MRO         67.679000       65.802540  \n",
      "WMB         60.530000       33.305215  \n",
      "KMI         40.535000       49.163601  \n",
      "HAL         21.473000       47.054644  \n",
      "BAC               NaN       44.694859  \n",
      "CFG               NaN       57.701113  \n",
      "FITB              NaN       45.745993  \n",
      "HBAN              NaN       57.593250  \n",
      "KEY               NaN       30.729094  \n",
      "RF                NaN       86.217717  \n",
      "SYF               NaN       46.103304  \n",
      "TFC               NaN       45.653114  \n",
      "PFE         34.714000       73.286039  \n",
      "VTRS        31.892002       51.902217  \n",
      "CSX         49.453000       40.497592  \n",
      "VICI        91.385000       60.087859  \n",
      "HST         27.862000       58.383364  \n",
      "HPE         17.559999       61.048506  \n",
      "NI          36.173000       34.400142  \n"
     ]
    },
    {
     "name": "stderr",
     "output_type": "stream",
     "text": [
      "\n"
     ]
    }
   ],
   "source": [
    "from stockMarket.stockScreener import StockScreener\n",
    "\n",
    "screen_information = {\n",
    "'dividendYield' : [0.1, None], # in percent\n",
    "'price' : [None, 40],\n",
    "'trailingPE' : [0, 20],\n",
    "# 'forwardPE' : [0, 100],\n",
    "'revenueGrowth' : [0, None], # in percent\n",
    "'operatingCashflow' : [0, None], # in billions\n",
    "'equityRatio' : [30, None], # in percent\n",
    "'ebitdaMargin' : [15, None] # in percent\n",
    "}\n",
    "\n",
    "stock_screener = StockScreener(stock_data)\n",
    "selected_tickers = stock_screener.screen(screen_information)\n",
    "# stock_screener.write_email([\"benno94@virgilio.it\", \"97gamjak@gmail.com\"])\n",
    "# stock_screener.write_email([\"97gamjak@gmail.com\"])\n",
    "# stock_screener.write_email([\"benno94@virgilio.it\"])\n"
   ]
  },
  {
   "cell_type": "code",
   "execution_count": 32,
   "metadata": {},
   "outputs": [
    {
     "name": "stdout",
     "output_type": "stream",
     "text": [
      "\n",
      "Screening Long Name...\n",
      "\n"
     ]
    },
    {
     "name": "stderr",
     "output_type": "stream",
     "text": [
      "100%|██████████| 29/29 [00:00<00:00, 341670.83it/s]\n"
     ]
    },
    {
     "name": "stdout",
     "output_type": "stream",
     "text": [
      "\n",
      "Screening Sector...\n",
      "\n"
     ]
    },
    {
     "name": "stderr",
     "output_type": "stream",
     "text": [
      "100%|██████████| 29/29 [00:00<00:00, 236643.61it/s]\n"
     ]
    },
    {
     "name": "stdout",
     "output_type": "stream",
     "text": [
      "\n",
      "Screening Market Cap (B)...\n",
      "\n"
     ]
    },
    {
     "name": "stderr",
     "output_type": "stream",
     "text": [
      "100%|██████████| 29/29 [00:00<00:00, 226508.04it/s]\n",
      "100%|██████████| 29/29 [00:01<00:00, 18.10it/s]\n"
     ]
    },
    {
     "data": {
      "text/html": [
       "<div>\n",
       "<style scoped>\n",
       "    .dataframe tbody tr th:only-of-type {\n",
       "        vertical-align: middle;\n",
       "    }\n",
       "\n",
       "    .dataframe tbody tr th {\n",
       "        vertical-align: top;\n",
       "    }\n",
       "\n",
       "    .dataframe thead th {\n",
       "        text-align: right;\n",
       "    }\n",
       "</style>\n",
       "<table border=\"1\" class=\"dataframe\">\n",
       "  <thead>\n",
       "    <tr style=\"text-align: right;\">\n",
       "      <th></th>\n",
       "      <th>Name</th>\n",
       "      <th>Sector</th>\n",
       "      <th>Market Cap (B)</th>\n",
       "      <th>Start Date</th>\n",
       "      <th>End Date</th>\n",
       "    </tr>\n",
       "  </thead>\n",
       "  <tbody>\n",
       "    <tr>\n",
       "      <th>KMI</th>\n",
       "      <td>Kinder Morgan, Inc.</td>\n",
       "      <td>Energy</td>\n",
       "      <td>39.943172</td>\n",
       "      <td>2024-01-16</td>\n",
       "      <td>2024-01-22</td>\n",
       "    </tr>\n",
       "    <tr>\n",
       "      <th>CFG</th>\n",
       "      <td>Citizens Financial Group, Inc.</td>\n",
       "      <td>Financial Services</td>\n",
       "      <td>14.751295</td>\n",
       "      <td>2024-01-17</td>\n",
       "      <td>NaN</td>\n",
       "    </tr>\n",
       "    <tr>\n",
       "      <th>TFC</th>\n",
       "      <td>Truist Financial Corporation</td>\n",
       "      <td>Financial Services</td>\n",
       "      <td>48.999039</td>\n",
       "      <td>2024-01-18</td>\n",
       "      <td>NaN</td>\n",
       "    </tr>\n",
       "    <tr>\n",
       "      <th>KEY</th>\n",
       "      <td>KeyCorp</td>\n",
       "      <td>Financial Services</td>\n",
       "      <td>13.294891</td>\n",
       "      <td>2024-01-18</td>\n",
       "      <td>NaN</td>\n",
       "    </tr>\n",
       "    <tr>\n",
       "      <th>FITB</th>\n",
       "      <td>Fifth Third Bancorp</td>\n",
       "      <td>Financial Services</td>\n",
       "      <td>23.399746</td>\n",
       "      <td>2024-01-19</td>\n",
       "      <td>NaN</td>\n",
       "    </tr>\n",
       "    <tr>\n",
       "      <th>HBAN</th>\n",
       "      <td>Huntington Bancshares Incorporated</td>\n",
       "      <td>Financial Services</td>\n",
       "      <td>18.129963</td>\n",
       "      <td>2024-01-19</td>\n",
       "      <td>NaN</td>\n",
       "    </tr>\n",
       "    <tr>\n",
       "      <th>RF</th>\n",
       "      <td>Regions Financial Corporation</td>\n",
       "      <td>Financial Services</td>\n",
       "      <td>17.00159</td>\n",
       "      <td>2024-01-19</td>\n",
       "      <td>NaN</td>\n",
       "    </tr>\n",
       "  </tbody>\n",
       "</table>\n",
       "</div>"
      ],
      "text/plain": [
       "                                    Name              Sector Market Cap (B)  \\\n",
       "KMI                  Kinder Morgan, Inc.              Energy      39.943172   \n",
       "CFG       Citizens Financial Group, Inc.  Financial Services      14.751295   \n",
       "TFC         Truist Financial Corporation  Financial Services      48.999039   \n",
       "KEY                              KeyCorp  Financial Services      13.294891   \n",
       "FITB                 Fifth Third Bancorp  Financial Services      23.399746   \n",
       "HBAN  Huntington Bancshares Incorporated  Financial Services      18.129963   \n",
       "RF         Regions Financial Corporation  Financial Services       17.00159   \n",
       "\n",
       "      Start Date    End Date  \n",
       "KMI   2024-01-16  2024-01-22  \n",
       "CFG   2024-01-17         NaN  \n",
       "TFC   2024-01-18         NaN  \n",
       "KEY   2024-01-18         NaN  \n",
       "FITB  2024-01-19         NaN  \n",
       "HBAN  2024-01-19         NaN  \n",
       "RF    2024-01-19         NaN  "
      ]
     },
     "execution_count": 32,
     "metadata": {},
     "output_type": "execute_result"
    }
   ],
   "source": [
    "from stockMarket.earning_dates import EarningDates\n",
    "\n",
    "earning_dates = EarningDates(selected_tickers)\n",
    "earning_dates.screen()\n",
    "# earning_dates.write_email([\"benno94@virgilio.it\", \"97gamjak@gmail.com\"])"
   ]
  }
 ],
 "metadata": {
  "kernelspec": {
   "display_name": "Python 3",
   "language": "python",
   "name": "python3"
  },
  "language_info": {
   "codemirror_mode": {
    "name": "ipython",
    "version": 3
   },
   "file_extension": ".py",
   "mimetype": "text/x-python",
   "name": "python",
   "nbconvert_exporter": "python",
   "pygments_lexer": "ipython3",
   "version": "3.12.1"
  }
 },
 "nbformat": 4,
 "nbformat_minor": 2
}
