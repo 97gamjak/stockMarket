{
 "cells": [
  {
   "cell_type": "markdown",
   "metadata": {},
   "source": [
    "## Retrieve Data"
   ]
  },
  {
   "cell_type": "code",
   "execution_count": 27,
   "metadata": {},
   "outputs": [
    {
     "name": "stdout",
     "output_type": "stream",
     "text": [
      "\n",
      "Downloading tickers...\n",
      "\n"
     ]
    },
    {
     "name": "stderr",
     "output_type": "stream",
     "text": [
      "100%|██████████| 503/503 [00:00<00:00, 79378.99it/s]\n"
     ]
    },
    {
     "name": "stdout",
     "output_type": "stream",
     "text": [
      "Retrieve info data from Yahoo Finance...\n"
     ]
    },
    {
     "name": "stderr",
     "output_type": "stream",
     "text": [
      "100%|██████████| 503/503 [01:13<00:00,  6.84it/s]\n"
     ]
    },
    {
     "name": "stdout",
     "output_type": "stream",
     "text": [
      "Retrieve cashflow data from Yahoo Finance...\n"
     ]
    },
    {
     "name": "stderr",
     "output_type": "stream",
     "text": [
      "100%|██████████| 503/503 [01:21<00:00,  6.15it/s]\n"
     ]
    },
    {
     "name": "stdout",
     "output_type": "stream",
     "text": [
      "Retrieve financials data from Yahoo Finance...\n"
     ]
    },
    {
     "name": "stderr",
     "output_type": "stream",
     "text": [
      "100%|██████████| 503/503 [01:13<00:00,  6.86it/s]\n"
     ]
    },
    {
     "name": "stdout",
     "output_type": "stream",
     "text": [
      "Retrieve balancesheet data from Yahoo Finance...\n"
     ]
    },
    {
     "name": "stderr",
     "output_type": "stream",
     "text": [
      "  3%|▎         | 16/503 [00:02<01:28,  5.47it/s]"
     ]
    }
   ],
   "source": [
    "from stockMarket.stockData import StockData\n",
    "\n",
    "stock_data = StockData(\"S&P 500\")\n",
    "stock_data.init_data()"
   ]
  },
  {
   "cell_type": "markdown",
   "metadata": {},
   "source": [
    "## Screening Data"
   ]
  },
  {
   "cell_type": "code",
   "execution_count": 10,
   "metadata": {},
   "outputs": [
    {
     "name": "stderr",
     "output_type": "stream",
     "text": [
      "  0%|          | 0/11 [00:00<?, ?it/s]"
     ]
    },
    {
     "name": "stdout",
     "output_type": "stream",
     "text": [
      "\n",
      "Screening Long Name...\n",
      "\n"
     ]
    },
    {
     "name": "stderr",
     "output_type": "stream",
     "text": [
      "100%|██████████| 503/503 [00:00<00:00, 353863.62it/s]\n"
     ]
    },
    {
     "name": "stdout",
     "output_type": "stream",
     "text": [
      "\n",
      "Screening Sector...\n",
      "\n"
     ]
    },
    {
     "name": "stderr",
     "output_type": "stream",
     "text": [
      "\n"
     ]
    },
    {
     "name": "stderr",
     "output_type": "stream",
     "text": [
      "100%|██████████| 503/503 [00:00<00:00, 259244.89it/s]\n"
     ]
    },
    {
     "name": "stdout",
     "output_type": "stream",
     "text": [
      "\n",
      "Screening Dividend Yield %...\n",
      "\n"
     ]
    },
    {
     "name": "stderr",
     "output_type": "stream",
     "text": [
      "100%|██████████| 503/503 [00:00<00:00, 432322.73it/s]\n"
     ]
    },
    {
     "name": "stdout",
     "output_type": "stream",
     "text": [
      "\n",
      "Screening Price...\n",
      "\n"
     ]
    },
    {
     "name": "stderr",
     "output_type": "stream",
     "text": [
      "100%|██████████| 503/503 [00:00<00:00, 307765.85it/s]\n"
     ]
    },
    {
     "name": "stdout",
     "output_type": "stream",
     "text": [
      "\n",
      "Screening Trailing PE...\n",
      "\n"
     ]
    },
    {
     "name": "stderr",
     "output_type": "stream",
     "text": [
      "100%|██████████| 503/503 [00:00<00:00, 382892.00it/s]\n"
     ]
    },
    {
     "name": "stdout",
     "output_type": "stream",
     "text": [
      "\n",
      "Screening Forward PE...\n",
      "\n"
     ]
    },
    {
     "name": "stderr",
     "output_type": "stream",
     "text": [
      "100%|██████████| 503/503 [00:00<00:00, 257882.28it/s]\n"
     ]
    },
    {
     "name": "stdout",
     "output_type": "stream",
     "text": [
      "\n",
      "Screening Revenue Growth %...\n",
      "\n"
     ]
    },
    {
     "name": "stderr",
     "output_type": "stream",
     "text": [
      "100%|██████████| 503/503 [00:00<00:00, 510708.04it/s]\n",
      " 64%|██████▎   | 7/11 [00:00<00:00,  8.07it/s]"
     ]
    },
    {
     "name": "stdout",
     "output_type": "stream",
     "text": [
      "\n",
      "Screening Operating Cash Flow (B)...\n",
      "\n"
     ]
    },
    {
     "name": "stderr",
     "output_type": "stream",
     "text": [
      "100%|██████████| 503/503 [00:00<00:00, 274740.84it/s]\n"
     ]
    },
    {
     "name": "stdout",
     "output_type": "stream",
     "text": [
      "\n",
      "Screening Gross Margin %...\n",
      "\n"
     ]
    },
    {
     "name": "stderr",
     "output_type": "stream",
     "text": [
      "100%|██████████| 503/503 [00:00<00:00, 566828.29it/s]\n"
     ]
    },
    {
     "name": "stdout",
     "output_type": "stream",
     "text": [
      "\n",
      "Screening EBITDA Margin %...\n",
      "\n"
     ]
    },
    {
     "name": "stderr",
     "output_type": "stream",
     "text": [
      "100%|██████████| 503/503 [00:00<00:00, 860764.96it/s]\n"
     ]
    },
    {
     "name": "stdout",
     "output_type": "stream",
     "text": [
      "\n",
      "Screening Equity Ratio %...\n",
      "\n"
     ]
    },
    {
     "name": "stderr",
     "output_type": "stream",
     "text": [
      "100%|██████████| 503/503 [00:00<00:00, 1218091.75it/s]\n",
      "100%|██████████| 11/11 [00:01<00:00,  6.70it/s]\n"
     ]
    },
    {
     "name": "stdout",
     "output_type": "stream",
     "text": [
      "\n",
      "Removing companies that do not meet the screening criteria...\n",
      "\n"
     ]
    },
    {
     "name": "stderr",
     "output_type": "stream",
     "text": [
      "100%|██████████| 503/503 [00:00<00:00, 152823.97it/s]"
     ]
    },
    {
     "name": "stdout",
     "output_type": "stream",
     "text": [
      "\n",
      "A total of 29 out of 503 companies were selected.\n",
      "For a total of 36 companies, data was missing.\n",
      "        \n",
      "A short summary of the reasons for discarding companies is given below:\n",
      "\n",
      "dividendYield_lower_limit     103 with limits [0.1None]\n",
      "dividendYield_upper_limit     0 with limits [0.1None]\n",
      "price_lower_limit     0 with limits [None40]\n",
      "price_upper_limit     431 with limits [None40]\n",
      "trailingPE_lower_limit     0 with limits [020]\n",
      "trailingPE_upper_limit     290 with limits [020]\n",
      "revenueGrowth_lower_limit     24 with limits [0None]\n",
      "revenueGrowth_upper_limit     0 with limits [0None]\n",
      "operatingCashflow_lower_limit     13 with limits [0None]\n",
      "operatingCashflow_upper_limit     0 with limits [0None]\n",
      "equityRatio_lower_limit     89 with limits [30None]\n",
      "equityRatio_upper_limit     0 with limits [30None]\n",
      "ebitdaMargin_lower_limit     109 with limits [15None]\n",
      "ebitdaMargin_upper_limit     0 with limits [15None]\n",
      "\n",
      "        \n",
      "The selected companies are:\n",
      "            \n",
      "\n",
      "                                     Long Name                  Sector  \\\n",
      "MOS                         The Mosaic Company         Basic Materials   \n",
      "VZ                 Verizon Communications Inc.  Communication Services   \n",
      "FOXA                           Fox Corporation  Communication Services   \n",
      "FOX                            Fox Corporation  Communication Services   \n",
      "IPG   The Interpublic Group of Companies, Inc.  Communication Services   \n",
      "TPR                             Tapestry, Inc.       Consumer Cyclical   \n",
      "KHC                    The Kraft Heinz Company      Consumer Defensive   \n",
      "CAG                       Conagra Brands, Inc.      Consumer Defensive   \n",
      "EQT                            EQT Corporation                  Energy   \n",
      "CTRA                       Coterra Energy Inc.                  Energy   \n",
      "MRO                   Marathon Oil Corporation                  Energy   \n",
      "WMB               The Williams Companies, Inc.                  Energy   \n",
      "KMI                        Kinder Morgan, Inc.                  Energy   \n",
      "HAL                        Halliburton Company                  Energy   \n",
      "BAC                Bank of America Corporation      Financial Services   \n",
      "CFG             Citizens Financial Group, Inc.      Financial Services   \n",
      "FITB                       Fifth Third Bancorp      Financial Services   \n",
      "HBAN        Huntington Bancshares Incorporated      Financial Services   \n",
      "KEY                                    KeyCorp      Financial Services   \n",
      "RF               Regions Financial Corporation      Financial Services   \n",
      "SYF                        Synchrony Financial      Financial Services   \n",
      "TFC               Truist Financial Corporation      Financial Services   \n",
      "VTRS                              Viatris Inc.              Healthcare   \n",
      "PFE                                Pfizer Inc.              Healthcare   \n",
      "CSX                            CSX Corporation             Industrials   \n",
      "VICI                      VICI Properties Inc.             Real Estate   \n",
      "HST                Host Hotels & Resorts, Inc.             Real Estate   \n",
      "HPE         Hewlett Packard Enterprise Company              Technology   \n",
      "NI                               NiSource Inc.               Utilities   \n",
      "\n",
      "      Dividend Yield %   Price  Trailing PE  Forward PE  Revenue Growth %  \\\n",
      "MOS               2.52  33.670     8.298734    9.669616        120.293261   \n",
      "VZ                7.02  38.190     7.758552    9.224881          6.659028   \n",
      "FOXA              1.68  30.950    15.190244    8.194736         15.524053   \n",
      "FOX               1.82  28.760    14.024390   12.234043         15.524053   \n",
      "IPG               3.82  32.670    13.376568   10.948629         20.602582   \n",
      "TPR               3.72  37.790     9.246820    8.166292         15.916329   \n",
      "KHC               4.26  37.740    15.570248   13.652174          1.145694   \n",
      "CAG               4.87  28.890    14.121952   10.762082          9.766020   \n",
      "EQT               1.70  37.960     5.180822   12.734007        356.649687   \n",
      "CTRA              3.18  25.640     8.847751   10.436734        517.394270   \n",
      "MRO               1.92  23.400     8.509090    7.244582        143.461414   \n",
      "WMB               5.15  35.250    15.315789   18.673796         42.052079   \n",
      "KMI               6.33  18.050    16.486237   14.729507         64.102564   \n",
      "HAL               1.87  34.810    11.848797   11.015974         40.512288   \n",
      "BAC               2.90  32.250     9.187675   11.156462         11.016275   \n",
      "CFG               5.15  32.760     7.831683    9.558912         16.611151   \n",
      "FITB              3.90  34.750     9.789174   10.805032         11.386543   \n",
      "HBAN              4.87  12.740     8.291391   10.262295         50.654206   \n",
      "KEY               5.70  14.450    11.544715   11.093750          8.258860   \n",
      "RF                5.17  18.640     7.585062    9.326530         14.900398   \n",
      "SYF               2.53  38.190     6.764273    6.714808          4.586992   \n",
      "TFC               5.57  37.435     9.231156   10.742690          1.453424   \n",
      "VTRS              3.97  12.110     7.735100    4.171429         36.135108   \n",
      "PFE               5.92  28.460    15.683060   14.207921        140.882572   \n",
      "CSX               1.27  34.720    18.444445   17.606060         40.347727   \n",
      "VICI              5.33  31.450    12.904564   11.780303        112.202364   \n",
      "HST               3.27  19.900    18.809525   21.467390        202.901235   \n",
      "HPE               3.18  16.420    10.318182    7.530806          4.862511   \n",
      "NI                3.77  26.670    17.826666   15.637426         24.967426   \n",
      "\n",
      "      Operating Cash Flow (B)  Gross Margin %  EBITDA Margin %  Equity Ratio %  \n",
      "MOS                  2.824800       17.573000        18.591000       75.993847  \n",
      "VZ                  37.739999       58.691000        35.789000       34.075708  \n",
      "FOXA                 1.531000       33.715000        19.660999       55.840732  \n",
      "FOX                  1.531000       33.715000        19.660999       55.840732  \n",
      "IPG                  0.927500       21.819000        18.114000       44.598081  \n",
      "TPR                  1.220900       71.360000        20.601000       40.895544  \n",
      "KHC                  3.572000       33.243000        23.884001       70.806423  \n",
      "CAG                  1.552200       27.111998        18.663000       48.104569  \n",
      "EQT                  3.618266       63.495000        92.714995       66.160645  \n",
      "CTRA                 4.382000       75.601995        70.457000       82.966313  \n",
      "MRO                  4.134000       77.796996        67.679000       65.802540  \n",
      "WMB                  5.344000       58.919000        60.530000       33.305215  \n",
      "KMI                  5.573000       47.660000        40.535000       49.163601  \n",
      "HAL                  3.211000       18.350000        21.473000       47.054644  \n",
      "BAC                 43.256001             NaN              NaN       44.694859  \n",
      "CFG                  3.732000             NaN              NaN       57.701113  \n",
      "FITB                 4.510000             NaN              NaN       45.745993  \n",
      "HBAN                 3.116000             NaN              NaN       57.593250  \n",
      "KEY                  3.451000             NaN              NaN       30.729094  \n",
      "RF                   2.729000             NaN              NaN       86.217717  \n",
      "SYF                  8.123000             NaN              NaN       46.103304  \n",
      "TFC                  9.789000             NaN              NaN       45.653114  \n",
      "VTRS                 2.462800       42.926000        31.892002       51.902217  \n",
      "PFE                 12.042000       54.627000        20.347000       73.286039  \n",
      "CSX                  5.413000       49.453000        49.453000       40.497592  \n",
      "VICI                 2.092436       99.084000        91.385000       60.087859  \n",
      "HST                  1.494000       29.954000        27.862000       58.383364  \n",
      "HPE                  4.428000       35.143003        17.559999       61.048506  \n",
      "NI                   1.909100       42.218000        36.173000       34.400142  \n"
     ]
    },
    {
     "name": "stderr",
     "output_type": "stream",
     "text": [
      "\n"
     ]
    }
   ],
   "source": [
    "from stockMarket.stockScreener import StockScreener\n",
    "\n",
    "screen_information = {\n",
    "'dividendYield' : [0.1, None], # in percent\n",
    "'price' : [None, 40],\n",
    "'trailingPE' : [0, 20],\n",
    "# 'forwardPE' : [0, 100],\n",
    "'revenueGrowth' : [0, None], # in percent\n",
    "'operatingCashflow' : [0, None], # in billions\n",
    "'equityRatio' : [30, None], # in percent\n",
    "'ebitdaMargin' : [15, None] # in percent\n",
    "}\n",
    "\n",
    "stock_screener = StockScreener(stock_data)\n",
    "selected_tickers = stock_screener.screen(screen_information)\n",
    "# stock_screener.write_email([\"benno94@virgilio.it\", \"97gamjak@gmail.com\"])\n",
    "# stock_screener.write_email([\"97gamjak@gmail.com\"])\n",
    "# stock_screener.write_email([\"benno94@virgilio.it\"])\n"
   ]
  },
  {
   "cell_type": "code",
   "execution_count": 25,
   "metadata": {},
   "outputs": [
    {
     "name": "stderr",
     "output_type": "stream",
     "text": [
      "[autoreload of earning_dates failed: Traceback (most recent call last):\n",
      "  File \"/usr/local/miniconda3-tci-collection-v1/lib/python3.8/site-packages/IPython/extensions/autoreload.py\", line 257, in check\n",
      "    superreload(m, reload, self.old_objects)\n",
      "  File \"/usr/local/miniconda3-tci-collection-v1/lib/python3.8/site-packages/IPython/extensions/autoreload.py\", line 455, in superreload\n",
      "    module = reload(module)\n",
      "  File \"/usr/local/miniconda3-tci-collection-v1/lib/python3.8/importlib/__init__.py\", line 169, in reload\n",
      "    _bootstrap._exec(spec, module)\n",
      "  File \"<frozen importlib._bootstrap>\", line 604, in _exec\n",
      "  File \"<frozen importlib._bootstrap_external>\", line 843, in exec_module\n",
      "  File \"<frozen importlib._bootstrap>\", line 219, in _call_with_frames_removed\n",
      "  File \"/home/jag/screening/earning_dates.py\", line 6, in <module>\n",
      "    from email import write_email\n",
      "ImportError: cannot import name 'write_email' from 'email' (/usr/local/miniconda3-tci-collection-v1/lib/python3.8/email/__init__.py)\n",
      "]\n"
     ]
    },
    {
     "name": "stdout",
     "output_type": "stream",
     "text": [
      "\n",
      "Screening Long Name...\n",
      "\n"
     ]
    },
    {
     "name": "stderr",
     "output_type": "stream",
     "text": [
      "100%|██████████| 29/29 [00:00<00:00, 246723.76it/s]\n"
     ]
    },
    {
     "name": "stdout",
     "output_type": "stream",
     "text": [
      "\n",
      "Screening Sector...\n",
      "\n"
     ]
    },
    {
     "name": "stderr",
     "output_type": "stream",
     "text": [
      "100%|██████████| 29/29 [00:00<00:00, 320091.62it/s]\n"
     ]
    },
    {
     "name": "stdout",
     "output_type": "stream",
     "text": [
      "\n",
      "Screening Market Cap (B)...\n",
      "\n"
     ]
    },
    {
     "name": "stderr",
     "output_type": "stream",
     "text": [
      "100%|██████████| 29/29 [00:00<00:00, 302574.17it/s]\n",
      "100%|██████████| 29/29 [00:00<00:00, 325226.78it/s]"
     ]
    },
    {
     "name": "stdout",
     "output_type": "stream",
     "text": [
      "                               long_name              sector market_cap  \\\n",
      "KMI                  Kinder Morgan, Inc.              Energy  39.943172   \n",
      "TFC         Truist Financial Corporation  Financial Services  48.999039   \n",
      "FITB                 Fifth Third Bancorp  Financial Services  23.399746   \n",
      "HBAN  Huntington Bancshares Incorporated  Financial Services  18.129963   \n",
      "RF         Regions Financial Corporation  Financial Services   17.00159   \n",
      "CFG       Citizens Financial Group, Inc.  Financial Services  14.751295   \n",
      "KEY                              KeyCorp  Financial Services  13.294891   \n",
      "\n",
      "                                  earnings_date  \n",
      "KMI   2024-01-16 00:00:00 - 2024-01-22 00:00:00  \n",
      "TFC                         2024-01-18 00:00:00  \n",
      "FITB                        2024-01-19 00:00:00  \n",
      "HBAN                        2024-01-19 00:00:00  \n",
      "RF                          2024-01-19 00:00:00  \n",
      "CFG                         2024-01-17 00:00:00  \n",
      "KEY                         2024-01-18 00:00:00  \n"
     ]
    },
    {
     "name": "stderr",
     "output_type": "stream",
     "text": [
      "\n"
     ]
    },
    {
     "ename": "AttributeError",
     "evalue": "'EarningDates' object has no attribute 'write_email'",
     "output_type": "error",
     "traceback": [
      "\u001b[0;31m---------------------------------------------------------------------------\u001b[0m",
      "\u001b[0;31mAttributeError\u001b[0m                            Traceback (most recent call last)",
      "Cell \u001b[0;32mIn [25], line 5\u001b[0m\n\u001b[1;32m      3\u001b[0m earning_dates \u001b[38;5;241m=\u001b[39m EarningDates(selected_tickers)\n\u001b[1;32m      4\u001b[0m earning_dates\u001b[38;5;241m.\u001b[39mscreen()\n\u001b[0;32m----> 5\u001b[0m earning_dates\u001b[38;5;241m.\u001b[39mwrite_email([\u001b[38;5;124m\"\u001b[39m\u001b[38;5;124mbenno94@virgilio.it\u001b[39m\u001b[38;5;124m\"\u001b[39m, \u001b[38;5;124m\"\u001b[39m\u001b[38;5;124m97gamjak@gmail.com\u001b[39m\u001b[38;5;124m\"\u001b[39m])\n",
      "\u001b[0;31mAttributeError\u001b[0m: 'EarningDates' object has no attribute 'write_email'"
     ]
    }
   ],
   "source": [
    "from stockMarket.earning_dates import EarningDates\n",
    "\n",
    "earning_dates = EarningDates(selected_tickers)\n",
    "earning_dates.screen()\n",
    "earning_dates.write_email([\"benno94@virgilio.it\", \"97gamjak@gmail.com\"])"
   ]
  }
 ],
 "metadata": {
  "kernelspec": {
   "display_name": "Python 3",
   "language": "python",
   "name": "python3"
  },
  "language_info": {
   "codemirror_mode": {
    "name": "ipython",
    "version": 3
   },
   "file_extension": ".py",
   "mimetype": "text/x-python",
   "name": "python",
   "nbconvert_exporter": "python",
   "pygments_lexer": "ipython3",
   "version": "3.12.1"
  }
 },
 "nbformat": 4,
 "nbformat_minor": 2
}
